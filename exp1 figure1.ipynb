{
 "cells": [
  {
   "cell_type": "markdown",
   "metadata": {},
   "source": [
    "# TempAtt: exp1 (auditory)"
   ]
  },
  {
   "cell_type": "markdown",
   "metadata": {},
   "source": [
    "### Load & preprocess data"
   ]
  },
  {
   "cell_type": "code",
   "execution_count": 87,
   "metadata": {
    "scrolled": true
   },
   "outputs": [],
   "source": [
    "clear\n",
    "clc\n",
    "% close all"
   ]
  },
  {
   "cell_type": "code",
   "execution_count": 88,
   "metadata": {},
   "outputs": [],
   "source": [
    "% define Paths: replace XXX by your own path\n",
    "origDir = '/XXX/exp1/'; %!\n",
    "addpath(genpath(origDir)); cd(origDir)\n",
    "\n",
    "% participants\n",
    "SUJETS = 1:31;\n",
    "SUJETS(SUJETS==9 ) = []; % to remove the unfinished participant"
   ]
  },
  {
   "cell_type": "code",
   "execution_count": 89,
   "metadata": {},
   "outputs": [],
   "source": [
    "% load data: 2 sessions per participant\n",
    "IN = []; Dif = NaN(SUJETS(end),1);\n",
    "for isuj = SUJETS\n",
    "    subject = ['S' sprintf( '%02d', isuj )];\n",
    "        ifile = dir(['TA18_' subject '_1*.mat']);\n",
    "        load([ifile.name])\n",
    "        IN{isuj,1}  = X;\n",
    "        Dif(isuj,1) = cfg.ndis;\n",
    "    subject = ['S' sprintf( '%02d', isuj ) 'b'];\n",
    "        ifile = dir(['TA18_' subject '_1*.mat']);\n",
    "        load([ifile.name]) \n",
    "        IN{isuj,2}  = X;\n",
    "        Dif(isuj,2) = cfg.ndis;\n",
    "    clear X subject ifile\n",
    "end\n",
    "Dif = mean(Dif,2);"
   ]
  },
  {
   "cell_type": "code",
   "execution_count": 90,
   "metadata": {
    "scrolled": true
   },
   "outputs": [],
   "source": [
    "% varnames & beat\n",
    "varname = {'Proportion Correct', 'Mean RT (ms)', 'Hit IE (sec)'};\n",
    "beats = cfg.fbeat(end:-1:1);"
   ]
  },
  {
   "cell_type": "code",
   "execution_count": 91,
   "metadata": {},
   "outputs": [],
   "source": [
    "% extract data: group 2 sessions, remove trials with suspect reaction times, average trials per condition\n",
    "OUT{1} = NaN(SUJETS(end), length(cfg.fbeat)); OUT{2} = OUT{1}; OUT{3} = OUT{2};\n",
    "for isuj = SUJETS\n",
    "    for ibeat = 1:length(beats)\n",
    "        out = [];\n",
    "        for isess = 1:2 %!\n",
    "            y = IN{isuj,isess}.beat == beats(ibeat);\n",
    "            out{1}(isess,:) = IN{isuj,isess}.iscor(y);\n",
    "            out{2}(isess,:) = IN{isuj,isess}.rt(y);\n",
    "        end\n",
    "        % group 2 sessions\n",
    "            out{1} = reshape(out{1},[],1);\n",
    "            out{2} = reshape(out{2},[],1);        \n",
    "        % nan rt >|< 2sd\n",
    "            rtmin = mean(out{2}) -2*std(out{2});\n",
    "            rtmax = mean(out{2}) +2*std(out{2});\n",
    "            out{2}(out{2}>rtmax)  = NaN; out{2}(out{2}<rtmin) = NaN;\n",
    "            out{1}(isnan(out{2})) = NaN;\n",
    "        % avg trials\n",
    "            OUT{1}(isuj,ibeat) = nanmean(out{1});\n",
    "            OUT{2}(isuj,ibeat) = nanmean(out{2});\n",
    "            OUT{3}(isuj,ibeat) = nanmean(out{2}) ./nanmean(out{1});\n",
    "        clear out y rtmin rtmax\n",
    "    end\n",
    "end\n",
    "clear IN  isuj ibeat isess"
   ]
  },
  {
   "cell_type": "code",
   "execution_count": 92,
   "metadata": {
    "scrolled": true
   },
   "outputs": [],
   "source": [
    "% remove the phantom (NaN) participant\n",
    "OUT{1}(isnan(OUT{1}(:,1)),:) = [];\n",
    "OUT{2}(isnan(OUT{2}(:,1)),:) = [];\n",
    "OUT{3}(isnan(OUT{3}(:,1)),:) = [];\n",
    "Dif(isnan(Dif)) = [];"
   ]
  },
  {
   "cell_type": "code",
   "execution_count": 93,
   "metadata": {
    "scrolled": true
   },
   "outputs": [],
   "source": [
    "% define variable of interest\n",
    "i0 = 1; % performance (or RT, or IE, see varname)\n",
    "fit_order = 3; % fit order (n = 3)"
   ]
  },
  {
   "cell_type": "code",
   "execution_count": 94,
   "metadata": {},
   "outputs": [],
   "source": [
    "% Fits per subject - define after rstudio analysis\n",
    "xVec = (beats(end):0.01:beats(1));\n",
    "Fit = [];\n",
    "for j0 = 1:length(OUT{i0})\n",
    "    x = OUT{i0}(j0,:);\n",
    "    x = polyfit(log(beats), x, fit_order);\n",
    "    if fit_order == 3\n",
    "        Fit(j0) = exp((-x(2)-sqrt(x(2).^2-3.*x(1).*x(3)))./(3.*x(1))); % order 3\n",
    "    elseif fit_order == 2\n",
    "        Fit(j0) = exp(-(x(2)./(2.*x(1)))); % order 2\n",
    "    end\n",
    "end\n",
    "Fit = real(Fit)';\n",
    "nsuj = length(Fit);\n",
    "\n",
    "% save data for inter-experiment comparisons\n",
    "save([origDir 'exp1_values.mat'], 'Fit', 'Dif');"
   ]
  },
  {
   "cell_type": "code",
   "execution_count": 95,
   "metadata": {},
   "outputs": [],
   "source": [
    "% option: exclude outlier participants in the Fit\n",
    "% olr = find((Fit>(mean(Fit)+4*std(Fit)))); % detect outliers (4std)\n",
    "% [min(Fit), max(Fit)] % edit range of Fit fq\n",
    "% % exclude outlier on all data types\n",
    "%     nsuj = nsuj-numel(olr);\n",
    "%     Dif(olr) = [];\n",
    "%     Fit(olr) = [];\n",
    "%     OUT{i0}(olr,:) = [];\n",
    "% [min(Fit), max(Fit)] % new rang of Fit fq"
   ]
  },
  {
   "cell_type": "markdown",
   "metadata": {},
   "source": [
    "### Statistics"
   ]
  },
  {
   "cell_type": "code",
   "execution_count": 96,
   "metadata": {},
   "outputs": [
    {
     "name": "stdout",
     "output_type": "stream",
     "text": [
      "\n",
      "Parametric repeated-measure Anova on Proportion Correct \n",
      "Beat                 F(  7.00,203.00) =  15.277,\tp = 0.0000\n",
      "\n",
      "3nd order fit: r2=0.86, p=0.002 \n"
     ]
    }
   ],
   "source": [
    "% statistics\n",
    "fprintf('\\nParametric repeated-measure Anova on %s \\n', varname{i0})\n",
    "[~,F,~,~] = repanova(OUT{i0}, 8, {'Beat'});\n",
    "\n",
    "% compute fit quality:\n",
    "x = mean(OUT{i0},1);\n",
    "    y = polyfit(log(beats), x, fit_order);\n",
    "    y = polyval(y, log(beats));\n",
    "[r,p] = corr(x', y', 'type', 'Spearman');\n",
    "fprintf('\\n%1.0fnd order fit: r2=%1.2f, p=%1.3f \\n', fit_order, r*r, p)\n",
    "length(x);\n",
    "clear x y F"
   ]
  },
  {
   "cell_type": "markdown",
   "metadata": {},
   "source": [
    "### Figure"
   ]
  },
  {
   "cell_type": "code",
   "execution_count": 97,
   "metadata": {
    "scrolled": true
   },
   "outputs": [
    {
     "data": {
      "image/png": "[encoded data removed]",
      "text/plain": [
       "<IPython.core.display.Image object>"
      ]
     },
     "metadata": {},
     "output_type": "display_data"
    }
   ],
   "source": [
    "figure; set(gcf,'color','w'); colormap([.5 .5 .5; 1 1 1])\n",
    "\n",
    "% 1. Difficulty\n",
    "h = subplot(2,4, 1); hold on\n",
    "    pos = get(h, 'Position');\n",
    "    set(h, 'Position', pos +[-.08 0 0 0] )\n",
    "    boxplot(zeros(10,1), 'colors','k','Widths',.01)\n",
    "boxplot(Dif,'boxstyle','outline', 'colors','k','OutlierSize',4,'Symbol','','Widths',0.6)\n",
    "scatter(ones(size(Dif)).*(1+(rand(size(Dif))-0.5)/10),Dif, ...\n",
    "    'MarkerFaceColor',[.1 .1 .1],'MarkerEdgeColor','k',...\n",
    "    'MarkerFaceAlpha',.2,'MarkerEdgeAlpha',.2)\n",
    "    set(gca, 'FontSize', 10, 'FontName', 'Arial')\n",
    "    ylim( [0, 3] )\n",
    "    ylabel( 'Difficulty (nb dis/beat)' )\n",
    "    xlim( [.0, 2] )\n",
    "    set(gca,'XTick', [] )\n",
    "    set(gca,'Layer','top','Box','off','TickLength',[.01 .01])\n",
    "    \n",
    "    \n",
    "% 3. boxplot individual preferred Fq\n",
    "h = subplot(2,4, 4); hold on\n",
    "    pos = get(h, 'Position');\n",
    "    set(h, 'Position', pos +[.04 0 0 0] )\n",
    "    boxplot(zeros(10,1), 'colors','k','Widths',.01)\n",
    "boxplot(Fit, 'boxstyle','outline', 'colors','k','OutlierSize',4,'Symbol','','Widths',0.6)\n",
    "scatter(ones(nsuj,1).*(1+(rand(nsuj,1)-0.5)/10), Fit(:,1), ...\n",
    "    'MarkerFaceColor',[.3 .3 .8], 'MarkerEdgeColor','b',...\n",
    "    'MarkerFaceAlpha',.2,'MarkerEdgeAlpha',.2)\n",
    "    set(gca, 'FontSize', 10, 'FontName', 'Arial')\n",
    "    set(gca,'Layer','top','Box','off','TickLength',[.01 .01])\n",
    "ylabel( 'Beat frequency (Hz)' )\n",
    "    set(gca, 'YLim',[.4, 4], 'YScale', 'log' ) %!\n",
    "   yticks( [ .6 1 1.7 2.9 3.8] )\n",
    "xlim( [.0, 2] )\n",
    "    set(gca,'XTick', [] )\n",
    "\n",
    "\n",
    "% 2. plot performances\n",
    "subplot(2,2, 1.5); hold on\n",
    "x = bsxfun(@plus,bsxfun(@minus, OUT{i0}, mean(OUT{i0},2)), mean(OUT{i0}(:)));\n",
    "errorbar(beats, mean(x), std(x)/sqrt(size(x,1)), ...\n",
    "    'b.', 'color', [.3 .3 .8], 'MarkerSize',15, 'Linewidth', 1.5,'Capsize', 1)\n",
    "\n",
    "% + plot staircase\n",
    "plot(2, .6, '.', 'color', [1 .5 .0], 'Linewidth', 2, 'MarkerSize', 15) %!\n",
    "        \n",
    "% + plot Fit\n",
    "x = mean(OUT{i0},1);\n",
    "    x = polyfit(log(beats), x, fit_order);\n",
    "    freqpass = exp((-x(2)-sqrt(x(2).^2-3.*x(1).*x(3)))./(3.*x(1))); % order 3\n",
    "    x = polyval(x, log(xVec));\n",
    "    h = plot(xVec, x, 'color', [.3 .3 .8], 'Linewidth', 1.5);\n",
    "    h.Color(4) = 0.7;\n",
    "\n",
    "% + plot max fit\n",
    "[~,b] = max(x);\n",
    "maxpass = max(x);\n",
    "h = line([xVec(b), xVec(b)], [.0, max(x)]);\n",
    "    set(h, 'color', [.3 .3 .8], 'LineStyle', ':')\n",
    "hold off\n",
    "set(gca, 'FontSize', 10, 'FontName', 'Arial')\n",
    "ylabel( varname{i0} )        \n",
    "xlabel( 'Beat frequency (Hz)' )\n",
    "set(gca,'Layer','top','Box','off','TickLength',[.01 .01])\n",
    "ylim( [.6, .8] ) %!\n",
    "yticks( .5:.1:1 )       \n",
    "    xticks( round(beats([end:-2:1 1]),1) )\n",
    "    set(gca, 'XScale', 'log')\n",
    "    xlim( [.5, 4] )\n",
    "\n",
    "% Print figure\n",
    "cd(origDir)\n",
    "% print('figure1b','-dpng','-r600')\n",
    "f.PaperSize = [46.81 33.1];\n",
    "f.PaperPosition(1:2) = [0 0];\n",
    "print -dpdf figure1b.pdf\n"
   ]
  },
  {
   "cell_type": "code",
   "execution_count": 98,
   "metadata": {
    "scrolled": true
   },
   "outputs": [
    {
     "name": "stdout",
     "output_type": "stream",
     "text": [
      "optimal beat frequency:  mean = 1.34 Hz, med = 1.12 Hz, std = 0.802 Hz \n",
      "difficulty level (staircase):  mean = 1.01 , med = 0.85 , std = 0.700  \n"
     ]
    }
   ],
   "source": [
    " fprintf('optimal beat frequency:  mean = %1.2f Hz, med = %1.2f Hz, std = %1.3f Hz \\n', mean(Fit), quantile(Fit,[.5]), std(Fit))\n",
    " fprintf('difficulty level (staircase):  mean = %1.2f , med = %1.2f , std = %1.3f  \\n', mean(Dif), quantile(Dif,[.5]), std(Dif))"
   ]
  },
  {
   "cell_type": "code",
   "execution_count": null,
   "metadata": {},
   "outputs": [],
   "source": []
  }
 ],
 "metadata": {
  "kernelspec": {
   "display_name": "Matlab",
   "language": "matlab",
   "name": "matlab"
  },
  "language_info": {
   "codemirror_mode": "octave",
   "file_extension": ".m",
   "help_links": [
    {
     "text": "MetaKernel Magics",
     "url": "https://github.com/calysto/metakernel/blob/master/metakernel/magics/README.md"
    }
   ],
   "mimetype": "text/x-octave",
   "name": "matlab",
   "version": "0.16.1"
  }
 },
 "nbformat": 4,
 "nbformat_minor": 2
}
