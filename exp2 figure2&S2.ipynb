{
 "cells": [
  {
   "cell_type": "markdown",
   "metadata": {},
   "source": [
    "# TempAtt exp2 (auditory - passive&tracking)"
   ]
  },
  {
   "cell_type": "markdown",
   "metadata": {},
   "source": [
    "### Load & preprocess data"
   ]
  },
  {
   "cell_type": "code",
   "execution_count": 54,
   "metadata": {
    "scrolled": false
   },
   "outputs": [],
   "source": [
    "clear\n",
    "clc\n",
    "% close all"
   ]
  },
  {
   "cell_type": "code",
   "execution_count": 55,
   "metadata": {},
   "outputs": [],
   "source": [
    "% define Paths: replace XXX by your own path\n",
    "origDir = '/XXX/exp2/';\n",
    "addpath(genpath(origDir)); cd(origDir)\n",
    "\n",
    "% define data\n",
    "SUJETS = 1:21;\n",
    "SUJETS(SUJETS==15) = [];"
   ]
  },
  {
   "cell_type": "code",
   "execution_count": 56,
   "metadata": {},
   "outputs": [],
   "source": [
    "% load data: 2 sessions per participant\n",
    "cd(origDir)\n",
    "IN = []; Dif = NaN(SUJETS(end),1);\n",
    "for isuj = SUJETS\n",
    "    subject = ['S' sprintf( '%02d', isuj ) ];\n",
    "        ifile = dir(['TA18_' subject '_Listen_1*.mat']);\n",
    "        load([ifile.name])\n",
    "        IN{isuj,1}  = X;\n",
    "        Dif(isuj,1) = cfg.ndis;\n",
    "    subject = ['S' sprintf( '%02d', isuj ) ];\n",
    "        ifile = dir(['TA18_' subject '_Tracking_1*.mat']);\n",
    "        load([ifile.name]) \n",
    "        IN{isuj,2}  = X;\n",
    "        Dif(isuj,2) = cfg.ndis;\n",
    "    clear X subject ifile\n",
    "    \n",
    "    if Dif(isuj,1) ~= Dif(isuj,2)\n",
    "    fprintf('Problem! : difficulty level was not matched across sessions')\n",
    "    end\n",
    "end\n",
    "Dif = mean(Dif,2);"
   ]
  },
  {
   "cell_type": "code",
   "execution_count": 57,
   "metadata": {},
   "outputs": [],
   "source": [
    "% varnames & beat\n",
    "varname = {'Proportion Correct', 'Mean RT (ms)', 'Hit IE (sec)'};\n",
    "beats = cfg.fbeat(end:-1:1);"
   ]
  },
  {
   "cell_type": "code",
   "execution_count": 58,
   "metadata": {},
   "outputs": [],
   "source": [
    "% extract data\n",
    "OUT{1} = NaN(SUJETS(end), length(cfg.fbeat), 2); OUT{2} = OUT{1}; OUT{3} = OUT{2};\n",
    "for isuj = SUJETS\n",
    "    for itapp = 1:2\n",
    "        for ibeat = 1:length(beats)\n",
    "            y = IN{isuj,itapp}.beat == beats(ibeat);\n",
    "            out{1} = IN{isuj,itapp}.iscor(y);\n",
    "            out{2} = IN{isuj,itapp}.rt(y);\n",
    "            % nan rt >|< 2sd\n",
    "                rtmin = mean(out{2}) -2*std(out{2});\n",
    "                rtmax = mean(out{2}) +2*std(out{2});\n",
    "                out{2}(out{2}>rtmax)  = NaN; out{2}(out{2}<rtmin) = NaN;\n",
    "                out{1}(isnan(out{2})) = NaN;\n",
    "            % avg trials\n",
    "                OUT{1}(isuj,ibeat,itapp) = nanmean(out{1});\n",
    "                OUT{2}(isuj,ibeat,itapp) = nanmean(out{2});\n",
    "                OUT{3}(isuj,ibeat,itapp) = nanmean(out{2}) ./nanmean(out{1});\n",
    "            clear out y rtmin rtmax\n",
    "        end\n",
    "    end\n",
    "end\n",
    "clear IN  isuj ibeat itapp"
   ]
  },
  {
   "cell_type": "code",
   "execution_count": 59,
   "metadata": {},
   "outputs": [],
   "source": [
    "% Load tapping data\n",
    "load([origDir 'exp2_tapping.mat'], 'TAPP'); % TAPP\n",
    "load([origDir 'exp2_lag.mat']); % LAG (generated in: \"exp2 figure2&S2 (suite)\")"
   ]
  },
  {
   "cell_type": "code",
   "execution_count": 60,
   "metadata": {},
   "outputs": [],
   "source": [
    "% remove phantom (NaN) participant\n",
    "OUT{1}(isnan(OUT{1}(:,1,1)),:,:) = [];\n",
    "OUT{2}(isnan(OUT{2}(:,1,1)),:,:) = [];\n",
    "OUT{3}(isnan(OUT{3}(:,1,1)),:,:) = [];\n",
    "TAPP(isnan(nanmean(TAPP(:,1,1,:),4)), :,:,:) = [];\n",
    "Dif(isnan(Dif)) = [];"
   ]
  },
  {
   "cell_type": "code",
   "execution_count": 61,
   "metadata": {},
   "outputs": [],
   "source": [
    "% define variable of interest\n",
    "i0 = 1; % performance (or RT, or IE, see varname)\n",
    "fit_order = 3; % fit order (n = 3)"
   ]
  },
  {
   "cell_type": "code",
   "execution_count": 62,
   "metadata": {},
   "outputs": [],
   "source": [
    "% Fits per subject - define after rstudio analysis\n",
    "xVec = (beats(end):0.01:beats(1));\n",
    "Fit = [];\n",
    "for j0 = 1:length(OUT{i0})\n",
    "    for k0 = 1:2\n",
    "        x = OUT{i0}(j0,:,k0);\n",
    "        x = polyfit(log(beats), x, fit_order);\n",
    "        if fit_order == 3\n",
    "            Fit(j0,k0) = exp((-x(2)-sqrt(x(2).^2-3.*x(1).*x(3)))./(3.*x(1))); % order 3\n",
    "        elseif fit_order == 2\n",
    "            Fit(j0,k0) = exp(-(x(2)./(2.*x(1)))); % order 2\n",
    "        end\n",
    "    end\n",
    "end\n",
    "\n",
    "% Fit motor tapping data\n",
    "z = nanmean(TAPP(:,:,2,:)*100, 4);\n",
    "for j0 = 1:size(z,1)\n",
    "    x = z(j0,:);\n",
    "    x = polyfit(log(beats), x, fit_order);\n",
    "    if fit_order == 3\n",
    "        Fit(j0,3) = exp((-x(2)+sqrt(x(2).^2-3.*x(1).*x(3)))./(3.*x(1))); % order 3\n",
    "    elseif fit_order == 2\n",
    "        Fit(j0,3) = exp(-(x(2)./(2.*x(1)))); % order 2\n",
    "    end        \n",
    "end\n",
    "Fit = real(Fit);\n",
    "nsuj = length(Fit);\n",
    "clear j0 k0\n",
    "\n",
    "% save data for inter-experiment comparisons\n",
    "save([origDir 'exp2_values.mat'], 'Fit', 'TAPP');"
   ]
  },
  {
   "cell_type": "code",
   "execution_count": 63,
   "metadata": {
    "scrolled": true
   },
   "outputs": [
    {
     "name": "stdout",
     "output_type": "stream",
     "text": [
      "\n",
      "ans =\n",
      "\n",
      "    0.5012    2.6797\n",
      "\n"
     ]
    }
   ],
   "source": [
    "% detect potential outliers (4std) in the Fit\n",
    "for j0 = 1:size(Fit,2)\n",
    "    olr = find((Fit(:,j0)>(mean(Fit(:,j0))+4*std(Fit(:,j0)))));\n",
    "end\n",
    "[min(Fit(:)), max(Fit(:))] % edit range of Fit fq"
   ]
  },
  {
   "cell_type": "markdown",
   "metadata": {},
   "source": [
    "### Figure A"
   ]
  },
  {
   "cell_type": "code",
   "execution_count": 64,
   "metadata": {},
   "outputs": [
    {
     "data": {
      "image/png": "[encoded data removed]",
      "text/plain": [
       "<IPython.core.display.Image object>"
      ]
     },
     "metadata": {},
     "output_type": "display_data"
    }
   ],
   "source": [
    "figure; set(gcf,'color','w'); colormap([.5 .5 .5; 1 1 1])\n",
    "\n",
    "% 1. Difficulty\n",
    "h = subplot(2,4, 1); hold on\n",
    "    % pos = get(h, 'Position');\n",
    "    % set(h, 'Position', pos +[-.08 0 0 0] )\n",
    "    boxplot(zeros(10,1), 'colors','k','Widths',.01)\n",
    "boxplot(Dif,'boxstyle','outline', 'colors','k','OutlierSize',4,'Symbol','','Widths',0.6)\n",
    "scatter(ones(size(Dif)).*(1+(rand(size(Dif))-0.5)/10),Dif, ...\n",
    "    'MarkerFaceColor',[.1 .1 .1],'MarkerEdgeColor','k',...\n",
    "    'MarkerFaceAlpha',.2,'MarkerEdgeAlpha',.2)\n",
    "    set(gca, 'FontSize', 10, 'FontName', 'Arial')\n",
    "    ylim( [0, 3] )\n",
    "    ylabel( 'Difficulty (nb dis/beat)' )\n",
    "    xlim( [.0, 2] )\n",
    "    set(gca,'XTick', [] )\n",
    "    set(gca,'Layer','top','Box','off','TickLength',[.01 .01])\n",
    "    \n",
    "% 2. beat-tapping Lag\n",
    "subplot(2,2, 2); hold on\n",
    "x = nanmean(LAG,4);    \n",
    "    x = bsxfun(@plus,bsxfun(@minus, x, mean(x,2)), mean(x(:)));\n",
    "    errorbar(beats, mean(x), std(x)/sqrt(size(x,1)), ...\n",
    "    '.','color', 'k', 'MarkerSize',15, 'Linewidth', 1.5,'Capsize', 1)\n",
    "x = mean(nanmean(LAG(:,:,1,:)), 4);\n",
    "    x = polyfit(log(beats), x, fit_order);\n",
    "    freqCVmin = exp((-x(2)+sqrt(x(2).^2-3.*x(1).*x(3)))./(3.*x(1))); % order 3\n",
    "    x = polyval(x, log(xVec));\n",
    "    h = plot(xVec, x, 'color', 'k', 'Linewidth', 1.5);\n",
    "    h.Color(4) = 0.7;\n",
    "    \n",
    "    hold off\n",
    "    set(gca, 'FontSize', 10, 'FontName', 'Arial')\n",
    "    ylabel( '|\\phi tapping-beat| (rad)' )        \n",
    "    xlabel( 'Beat frequency (Hz)' )\n",
    "    set(gca,'Layer','top','Box','off','TickLength',[.01 .01])\n",
    "\tylim( [0, 2.7] )\n",
    "    yticks( [0 pi/4 pi/2 3*pi/4] )\n",
    "    yticklabels({'0','\\pi/4','\\pi/2', '3\\pi/4'})\n",
    "        xticks( round(beats([end:-2:1 1]),1) )       \n",
    "        set(gca, 'XScale', 'log')\n",
    "        xlim( [.5, 4] )\n",
    "   \n",
    "% 3. mean: actual/expected (tapspeed)\n",
    "subplot(2,2, 3); hold on\n",
    "x = nanmean(TAPP,4);\n",
    "x = 1e3./x(:,:,1); % in Hz\n",
    "    x = bsxfun(@rdivide, x, beats)*100; % actual/expected\n",
    "    x = bsxfun(@plus,bsxfun(@minus, x, mean(x,2)), mean(x(:)));\n",
    "    errorbar(beats, mean(x), std(x)/sqrt(size(x,1)), ...\n",
    "    '.','color', 'k', 'MarkerSize',15, 'Linewidth', 1.5,'Capsize', 1)\n",
    "        hold on; plot(beats, 100*ones(1,length(beats)),'k:'); hold off\n",
    "    set(gca, 'FontSize', 10, 'FontName', 'Arial')\n",
    "    ylabel( 'Tapping/beat (%)' )        \n",
    "    xlabel( 'Beat frequency (Hz)' )\n",
    "    set(gca,'Layer','top','Box','off','TickLength',[.01 .01])\n",
    "    ylim( [88, 112] )\n",
    "        xticks( round(beats([end:-2:1 1]),1) )\n",
    "        set(gca, 'XScale', 'log')\n",
    "        xlim( [.5, 4] )\n",
    "   \n",
    "% 4. coefficient of variation (std/mean*100)\n",
    "subplot(2,2, 4); hold on\n",
    "x = nanmean(TAPP,4);    \n",
    "x = x(:,:,2)*100; % in Hz\n",
    "    x = bsxfun(@plus,bsxfun(@minus, x, mean(x,2)), mean(x(:)));\n",
    "    errorbar(beats, mean(x), std(x)/sqrt(size(x,1)), ...\n",
    "    '.','color', 'k', 'MarkerSize',15, 'Linewidth', 1.5,'Capsize', 1)\n",
    "x = mean(nanmean(TAPP(:,:,2,:)*100, 4));\n",
    "    x = polyfit(log(beats), x, fit_order);\n",
    "    freqCVmin = exp((-x(2)+sqrt(x(2).^2-3.*x(1).*x(3)))./(3.*x(1))); % order 3\n",
    "    x = polyval(x, log(xVec));\n",
    "    h = plot(xVec, x, 'color', 'k', 'Linewidth', 1.5);\n",
    "    h.Color(4) = 0.7;\n",
    "% plot min fit\n",
    "[~,b] = min(x);\n",
    "    minCV = min(x);\n",
    "h = line([xVec(b), xVec(b)], [.0, min(x)]);\n",
    "    set(h, 'color', 'k', 'LineStyle', ':')\n",
    "    \n",
    "hold off\n",
    "    set(gca, 'FontSize', 10, 'FontName', 'Arial')\n",
    "    xlim( [.5, 4] )\n",
    "        xticks( round(beats([end:-2:1 1]),1) )\n",
    "        set(gca, 'XScale', 'log')\n",
    "        xlabel( 'Beat frequency (Hz)' )\n",
    "    ylim( [0, 20] )\n",
    "        ylabel( 'Coefficient of variation (%)' ) % Tapping precision fn beat(ms/Hz)\n",
    "    set(gca,'Layer','top','Box','off','TickLength',[.01 .01])\n",
    "  clear  h \n",
    "\n",
    "% Print figure\n",
    "cd(origDir)\n",
    "% print('figure2c&S2a','-dpng','-r600')\n",
    "f.PaperSize = [46.81 33.1];\n",
    "f.PaperPosition(1:2) = [0 0];\n",
    "print -dpdf figure2c&S2a.pdf\n"
   ]
  },
  {
   "cell_type": "code",
   "execution_count": 65,
   "metadata": {},
   "outputs": [
    {
     "name": "stdout",
     "output_type": "stream",
     "text": [
      "min CV from indiv Fit:  mean = 1.4179 Hz, med = 1.4072 Hz, std = 0.4439 Hz \n",
      "min CV from group averaged data:  7.66 %, 1.51 Hz \n"
     ]
    }
   ],
   "source": [
    "fprintf('min CV from indiv Fit:  mean = %1.4f Hz, med = %1.4f Hz, std = %1.4f Hz \\n', mean(Fit(:,3)), quantile(Fit(:,3),[.5]), std(Fit(:,3)))\n",
    "fprintf('min CV from group averaged data:  %1.2f %%, %1.2f Hz \\n', mean(minCV), freqCVmin)\n"
   ]
  },
  {
   "cell_type": "markdown",
   "metadata": {},
   "source": [
    "## Stat "
   ]
  },
  {
   "cell_type": "code",
   "execution_count": 66,
   "metadata": {},
   "outputs": [
    {
     "name": "stdout",
     "output_type": "stream",
     "text": [
      "\n",
      "Parametric repeated-measure Anova on Proportion Correct \n",
      "Beat                 F(  7.00,133.00) =   6.837,\tp = 0.0005\n",
      "\n",
      "3nd order fit: r2=0.95, p=0.000 \n"
     ]
    }
   ],
   "source": [
    "% Anova\n",
    "fprintf('\\nParametric repeated-measure Anova on %s \\n', varname{i0})\n",
    "x = nanmean(TAPP(:,:,2,:)*100, 4);\n",
    "[~,F,~,~] = repanova(x, 8, {'Beat'});\n",
    "\n",
    "% compute fit quality\n",
    "x = mean(x);\n",
    "    y = polyfit(log(beats), x, fit_order);\n",
    "    y = polyval(y, log(beats));\n",
    "[r,p] = corr(x', y', 'type', 'Spearman');\n",
    "fprintf('\\n%1.0fnd order fit: r2=%1.2f, p=%1.3f \\n', fit_order, r*r, p)"
   ]
  },
  {
   "cell_type": "markdown",
   "metadata": {},
   "source": [
    "### Figure B"
   ]
  },
  {
   "cell_type": "code",
   "execution_count": 67,
   "metadata": {
    "scrolled": true
   },
   "outputs": [
    {
     "data": {
      "image/png": "[encoded data removed]",
      "text/plain": [
       "<IPython.core.display.Image object>"
      ]
     },
     "metadata": {},
     "output_type": "display_data"
    }
   ],
   "source": [
    "figure; set(gcf,'color','w'); colormap([.5 .5 .5; 1 1 1])\n",
    "    \n",
    "% 1. plot performances\n",
    "subplot(2,2, 1); hold on\n",
    "x = OUT{i0}(:,:,1); % listen\n",
    "    x = bsxfun(@plus,bsxfun(@minus, x, mean(x,2)), mean(x(:)));\n",
    "    errorbar(beats, mean(x), std(x)/sqrt(size(x,1)), ...\n",
    "    'b.', 'color', [.3 .3 .8], 'MarkerSize',15, 'Linewidth', 1.5,'Capsize', 1)\n",
    "x = OUT{i0}(:,:,2); % tracking\n",
    "    x = bsxfun(@plus,bsxfun(@minus, x, mean(x,2)), mean(x(:)));\n",
    "    errorbar(beats, mean(x), std(x)/sqrt(size(x,1)), ...\n",
    "    'r.', 'color', [.8 .3 .3], 'MarkerSize',15, 'Linewidth', 1.5,'Capsize', 1)\n",
    "\n",
    "% plot staircase\n",
    "plot(2, .6, '.', 'color', [1 .5 .0], 'Linewidth', 2, 'MarkerSize', 15) %!\n",
    "        \n",
    "% Listen: plot Fit & max fit\n",
    "x = mean(OUT{i0}(:,:,1),1); % listen\n",
    "    x = polyfit(log(beats), x, fit_order);\n",
    "    freqpass = exp((-x(2)-sqrt(x(2).^2-3.*x(1).*x(3)))./(3.*x(1))); % order 3\n",
    "    x = polyval(x, log(xVec));\n",
    "    h = plot(xVec, x, 'color', [.3 .3 .8], 'Linewidth', 1.5);\n",
    "    h.Color(4) = 0.7;\n",
    "[~,b] = max(x);\n",
    "    maxpass = max(x);\n",
    "    h = line([xVec(b), xVec(b)], [.0, max(x)]);\n",
    "    set(h, 'color', [.3 .3 .8], 'LineStyle', ':')\n",
    " \n",
    "% Tracking: plot Fit & max fit    \n",
    "x = mean(OUT{i0}(:,:,2),1); % tracking\n",
    "    x = polyfit(log(beats), x, fit_order);\n",
    "    freqtrack = exp((-x(2)-sqrt(x(2).^2-3.*x(1).*x(3)))./(3.*x(1))); % order 3\n",
    "    x = polyval(x, log(xVec));\n",
    "    h = plot(xVec, x, 'color', [.8 .3 .3], 'Linewidth', 1.5);\n",
    "    h.Color(4) = 0.7;     \n",
    "[~,b] = max(x);\n",
    "    maxtrack = max(x);\n",
    "    h = line([xVec(b), xVec(b)], [.0, max(x)]);\n",
    "    set(h, 'color', [.8 .3 .3], 'LineStyle', ':')  \n",
    "        \n",
    "hold off\n",
    "set(gca, 'FontSize', 10, 'FontName', 'Arial')\n",
    "ylabel( varname{i0} )        \n",
    "xlabel( 'Beat frequency (Hz)' )\n",
    "set(gca,'Layer','top','Box','off','TickLength',[.01 .01])\n",
    "ylim( [.6, .92] ) %!\n",
    "yticks( .5:.1:1 )       \n",
    "    xticks( round(beats([end:-2:1 1]),1) )\n",
    "    set(gca, 'XScale', 'log')\n",
    "    xlim( [.5, 4] )\n",
    "    \n",
    "\n",
    "% 2. boxplot individual preferred Fq\n",
    "subplot(2,2, 3); hold on\n",
    "boxplot(Fit,'orientation', 'horizontal','boxstyle','outline', 'colors','k','OutlierSize',4,'Symbol','','Widths',0.2)\n",
    "\n",
    "scatter(Fit(:,1),ones(nsuj,1).*(1+(rand(nsuj,1)-0.5)/10),  ...\n",
    "    'MarkerFaceColor',[.3 .3 .8],'MarkerEdgeColor','b',...\n",
    "    'MarkerFaceAlpha',.2,'MarkerEdgeAlpha',.2)\n",
    "scatter(Fit(:,2),ones(nsuj,1).*(2+(rand(nsuj,1)-0.5)/10),  ...\n",
    "    'MarkerFaceColor',[.8 .3 .3],'MarkerEdgeColor','r',...\n",
    "    'MarkerFaceAlpha',.2,'MarkerEdgeAlpha',.2)\n",
    "scatter(Fit(:,3),ones(nsuj,1).*(3+(rand(nsuj,1)-0.5)/10),  ...\n",
    "    'MarkerFaceColor',[.1 .1 .1],'MarkerEdgeColor','k',...\n",
    "    'MarkerFaceAlpha',.2,'MarkerEdgeAlpha',.2)\n",
    "set(gca, 'FontSize', 10, 'FontName', 'Arial')\n",
    "set(gca,'Layer','top','Box','off','TickLength',[.01 .01])\n",
    "xlabel( 'Beat frequency (Hz)' )\n",
    "    xticks( round(beats([end:-2:1 1]),1) )\n",
    "    set(gca, 'XScale', 'log')\n",
    "    xlim( [.47, 4] )\n",
    "yticks( [] )\n",
    "set(gca, 'YColor', [1 1 1])    \n",
    "\n",
    "% print figure\n",
    "cd(origDir)\n",
    "f.PaperSize = [46.81 33.1];\n",
    "f.PaperPosition(1:2) = [0 0];\n",
    "print -dpdf figure2a&d.pdf"
   ]
  },
  {
   "cell_type": "markdown",
   "metadata": {},
   "source": [
    "### Statistics listen vs. tracking"
   ]
  },
  {
   "cell_type": "code",
   "execution_count": 77,
   "metadata": {
    "scrolled": true
   },
   "outputs": [
    {
     "name": "stdout",
     "output_type": "stream",
     "text": [
      "\n",
      "Parametric repeated-measure Anova on Proportion Correct \n",
      "Condition            F(  1.00, 19.00) =   7.520,\tp = 0.0129\n",
      "Beat                 F(  7.00,133.00) =  15.988,\tp = 0.0000\n",
      "Condition x Beat     F(  7.00,133.00) =   2.808,\tp = 0.0234\n",
      "\n",
      "     beat 3.82hz: p= 0.3666,  t= -0.9250,  df=  19.00, bf=   0.35\n",
      "     beat 2.90hz: p= 0.4277,  t= 0.8105,  df=  19.00, bf=   0.31\n",
      "     beat 2.20hz: p= 0.0019,  t= 3.5987,  df=  19.00, bf=  40.43\n",
      "     beat 1.66hz: p= 0.0087,  t= 2.9252,  df=  19.00, bf=   9.21\n",
      "     beat 1.26hz: p= 0.0129,  t= 2.7445,  df=  19.00, bf=   6.31\n",
      "     beat 0.96hz: p= 0.0663,  t= 1.9486,  df=  19.00, bf=   1.38\n",
      "     beat 0.72hz: p= 0.1863,  t= 1.3712,  df=  19.00, bf=   0.57\n",
      "     beat 0.55hz: p= 0.5616,  t= 0.5909,  df=  19.00, bf=   0.27\n",
      "\n",
      "Tapping :  mean = 1.42 , med = 1.41 , std = 0.444  \n",
      "Tracking :  mean = 1.47 , med = 1.40 , std = 0.445  \n",
      "Passive :  mean = 1.47 , med = 1.58 , std = 0.590  \n",
      "\n",
      "Passive vs  Tracking:  t = 0.02 ,  df=  19.00, p = 0.99, bf =   0.22 \n",
      "Passive vs  Tapping:   t = 0.32 ,  df=  19.00, p = 0.75, bf =   0.24 \n",
      "Tracking vs  Tapping:  t = 0.44 ,  df=  19.00, p = 0.66, bf =   0.25 \n"
     ]
    }
   ],
   "source": [
    "% Anova\n",
    "pval = [];\n",
    "fprintf('\\nParametric repeated-measure Anova on %s \\n', varname{i0})\n",
    "[~,F,~,~] = repanova( reshape(OUT{i0}, length(SUJETS),[]), [2,8], {'Condition','Beat'});\n",
    "\n",
    "% Post-hoc analysis: tracking vs. listen (beat-by-beat)\n",
    "fprintf('\\n')\n",
    "for j0 = 1:length(beats)\n",
    "    [~, p, ~, S] = ttest(OUT{1}(:,j0,2), OUT{1}(:,j0,1));\n",
    "    bf = bftest(OUT{1}(:,j0,2)-OUT{1}(:,j0,1),'bic'); \n",
    "    fprintf('     beat %1.2fhz: p= %6.4f,  t= %6.4f,  df= %6.2f, bf= %6.2f\\n', beats(j0), p, S.tstat,S.df, bf)\n",
    "    pval(j0) = p;\n",
    "end\n",
    "\n",
    "% comparison of passive|tracking|tapping\n",
    " fprintf('\\n')\n",
    " fprintf('Tapping :  mean = %1.2f , med = %1.2f , std = %1.3f  \\n', mean(Fit(:,3)), quantile(Fit(:,3),[.5]), std(Fit(:,3)))\n",
    " fprintf('Tracking :  mean = %1.2f , med = %1.2f , std = %1.3f  \\n', mean(Fit(:,2)), quantile(Fit(:,2),[.5]), std(Fit(:,2)))\n",
    " fprintf('Passive :  mean = %1.2f , med = %1.2f , std = %1.3f  \\n', mean(Fit(:,1)), quantile(Fit(:,1),[.5]), std(Fit(:,1)))\n",
    " fprintf('\\n')\n",
    "[h,p,ci,stats] = ttest(Fit(:,1),Fit(:,2));\n",
    "    bf = bftest(Fit(:,1)-Fit(:,2),'bic'); \n",
    "     fprintf('Passive vs  Tracking:  t = %1.2f ,  df= %6.2f, p = %1.2f, bf = %6.2f \\n',stats.tstat,stats.df, p, bf)\n",
    "[h,p,ci,stats] = ttest(Fit(:,1),Fit(:,3));\n",
    "    bf = bftest(Fit(:,1)-Fit(:,3),'bic'); \n",
    "     fprintf('Passive vs  Tapping:   t = %1.2f ,  df= %6.2f, p = %1.2f, bf = %6.2f \\n',stats.tstat,stats.df, p, bf)\n",
    "[h,p,ci,stats] = ttest(Fit(:,2),Fit(:,3));\n",
    "    bf = bftest(Fit(:,2)-Fit(:,3),'bic'); \n",
    "     fprintf('Tracking vs  Tapping:  t = %1.2f ,  df= %6.2f, p = %1.2f, bf = %6.2f \\n',stats.tstat,stats.df, p, bf)\n"
   ]
  },
  {
   "cell_type": "code",
   "execution_count": 80,
   "metadata": {},
   "outputs": [
    {
     "name": "stdout",
     "output_type": "stream",
     "text": [
      "passive: 3nd order fit: r2=0.73, p=0.011\n",
      "tracking: 3nd order fit: r2=0.91, p=0.001 \n"
     ]
    }
   ],
   "source": [
    "% compute fit quality for passive & tracking conditions\n",
    "x = mean(OUT{i0}(:,:,1),1);\n",
    "    y = polyfit(log(beats), x, fit_order);\n",
    "    y = polyval(y, log(beats));\n",
    "[r,p] = corr(x', y', 'type', 'Spearman');\n",
    "fprintf('passive: %1.0fnd order fit: r2=%1.2f, p=%1.3f', fit_order, r*r, p)\n",
    "\n",
    "x = mean(OUT{i0}(:,:,2),1);\n",
    "    y = polyfit(log(beats), x, fit_order);\n",
    "    y = polyval(y, log(beats));\n",
    "[r,p] = corr(x', y', 'type', 'Spearman');\n",
    "fprintf('\\ntracking: %1.0fnd order fit: r2=%1.2f, p=%1.3f \\n', fit_order, r*r, p)"
   ]
  },
  {
   "cell_type": "markdown",
   "metadata": {},
   "source": [
    "### Statistics exp1 vs. exp2"
   ]
  },
  {
   "cell_type": "code",
   "execution_count": 81,
   "metadata": {},
   "outputs": [
    {
     "name": "stdout",
     "output_type": "stream",
     "text": [
      "comparison of exp1 & exp2a: \n",
      "   passive2 vs  passive1:  t = 0.66  df=  47.45, , p = 0.51, bf =   0.34 \n",
      "   df (without Welch-Satterthwaite correction) = 48\n"
     ]
    }
   ],
   "source": [
    "% passive conditions: first vs second auditory exp\n",
    "\n",
    "% load data from experiment 1 to compare experiments\n",
    "A = load('../exp1/exp1_values.mat', 'Fit'); % Fit\n",
    "X = Fit(:,1); Y = A.Fit; % Y = Fit(:,3);\n",
    "[h,p,ci,stats] = ttest2(X,Y, 'Vartype', 'unequal'); % unpaired welsh ttest\n",
    "\n",
    "% implementation maison Bayes Factor unpaired\n",
    "    T = stats.tstat;\n",
    "    df = numel(X)+numel(Y)-2;\n",
    "    N = numel(X)*numel(Y)/(numel(X)+numel(Y));\n",
    "    r = sqrt(2)/2; % Ã  voir !!! .7 or 1...\n",
    "\n",
    "numerator = (1+T.^2/df).^(-(df+1)/2);\n",
    "fun  = @(g) ( ((1+N.*g.*r.^2).^-0.5) .* (1+T.^2./((1+N.*g.*r.^2).*df)).^(-(df+1)/2) .* (2*pi).^(-1/2) .* g.^(-3/2).*exp(-1./(2*g))  );\n",
    "bf10 = numerator/integral(fun,0,inf); % Integrate over g\n",
    "bf10 = 1./bf10; % Return BF10\n",
    "% bf10 = 2*(1-pValue)*bf10; % if one-tail\n",
    "\n",
    "fprintf('comparison of exp1 & exp2a: \\n');\n",
    "fprintf('   passive2 vs  passive1:  t = %1.2f  df= %6.2f, , p = %1.2f, bf = %6.2f \\n',stats.tstat,stats.df, p, bf10)\n",
    "fprintf('   df (without Welch-Satterthwaite correction) = %1.0f\\n',df);\n",
    "clear h p ci stats"
   ]
  },
  {
   "cell_type": "code",
   "execution_count": null,
   "metadata": {},
   "outputs": [],
   "source": []
  }
 ],
 "metadata": {
  "kernelspec": {
   "display_name": "Matlab",
   "language": "matlab",
   "name": "matlab"
  },
  "language_info": {
   "codemirror_mode": "octave",
   "file_extension": ".m",
   "help_links": [
    {
     "text": "MetaKernel Magics",
     "url": "https://github.com/calysto/metakernel/blob/master/metakernel/magics/README.md"
    }
   ],
   "mimetype": "text/x-octave",
   "name": "matlab",
   "version": "0.16.1"
  }
 },
 "nbformat": 4,
 "nbformat_minor": 2
}
