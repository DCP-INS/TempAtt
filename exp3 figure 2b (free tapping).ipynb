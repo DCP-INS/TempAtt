{
 "cells": [
  {
   "cell_type": "markdown",
   "metadata": {},
   "source": [
    "# TempAtt FreeTapping"
   ]
  },
  {
   "cell_type": "markdown",
   "metadata": {},
   "source": [
    "### Load & preprocess data"
   ]
  },
  {
   "cell_type": "code",
   "execution_count": 10,
   "metadata": {
    "scrolled": false
   },
   "outputs": [],
   "source": [
    "clear\n",
    "clc\n",
    "% close all"
   ]
  },
  {
   "cell_type": "code",
   "execution_count": 11,
   "metadata": {},
   "outputs": [],
   "source": [
    "% define Paths: replace XXX by your own path\n",
    "origDir = '/XXX/exp3/'; %!\n",
    "addpath(genpath(origDir)); cd(origDir)\n",
    "\n",
    "% load free tapping data\n",
    "load([origDir 'free_tapp1.mat'])\n",
    "TAPP1 = TAPP;\n",
    "load([origDir 'free_tapp2.mat'])\n",
    "TAPP2 = TAPP;"
   ]
  },
  {
   "cell_type": "code",
   "execution_count": 12,
   "metadata": {},
   "outputs": [
    {
     "name": "stdout",
     "output_type": "stream",
     "text": [
      "\n",
      "ans =\n",
      "\n",
      "    50     3\n",
      "\n"
     ]
    }
   ],
   "source": [
    "% preprocess data\n",
    "TAPP = vertcat(TAPP1(:,:,:), TAPP2(:,:,:));\n",
    "clear TAPP1 TAPP2\n",
    "TAPP(:,:,1) = 1e3./TAPP(:,:,1); % in Hz\n",
    "TAPP(:,:,2) = 1e2.*TAPP(:,:,2); % in % (std/mean*100)\n",
    "TAPP(:,:,3) = 1e-3.*TAPP(:,:,3); % in sec\n",
    "\n",
    "% define variable of interest\n",
    "i0 = 1; % tapping in Hz (or 2- in percent (std/mean*100), or 3- in sec)\n",
    "TAPP = TAPP(:,:,1);\n",
    "\n",
    "% reorganise: fastest, spontaneous, slowest\n",
    "TAPP = [ TAPP(:,2,:) TAPP(:,1,:) TAPP(:,3,:)];\n",
    "size(TAPP)"
   ]
  },
  {
   "cell_type": "markdown",
   "metadata": {},
   "source": [
    "### Figure"
   ]
  },
  {
   "cell_type": "code",
   "execution_count": 16,
   "metadata": {},
   "outputs": [
    {
     "data": {
      "image/png": "[encoded data removed]",
      "text/plain": [
       "<IPython.core.display.Image object>"
      ]
     },
     "metadata": {},
     "output_type": "display_data"
    }
   ],
   "source": [
    "figure; set(gcf,'color','w'); colormap([.5 .5 .5; 1 1 1]); hold on\n",
    "    subplot(2,2, 1.5);\n",
    "    boxplot(TAPP,'orientation', 'horizontal','boxstyle','outline', 'colors','k', ...\n",
    "        'OutlierSize',4, 'Symbol','', 'Widths',0.2)\n",
    "    for i0 = 1:3   \n",
    "    hold on\n",
    "    scatter(TAPP(:,i0), ones(size(TAPP(:,i0))).*(i0+(rand(size(TAPP(:,i0)))-0.5)/10), ...\n",
    "        'MarkerFaceColor',[.8 .7 .3],'MarkerEdgeColor',[.8 .7 .3],...\n",
    "        'MarkerFaceAlpha',.2,'MarkerEdgeAlpha',.2)\n",
    "        set(gca, 'FontSize', 10, 'FontName', 'Arial', 'YColor', [1 1 1])\n",
    "        set(gca,'Layer','top','Box','off','TickLength',[.01 .01])\n",
    "set(gca,'Layer','top','Box','off','TickLength',[.01 .01])\n",
    "xlabel( 'Beat frequency (Hz)' )\n",
    "   xticks( [.2 .6 1 1.7 3.8 6] )\n",
    "    set(gca, 'XScale', 'log')\n",
    "        xlim([.19, max(max(TAPP))+.1])\n",
    "        xlabel( 'Tapping Frequency (Hz)' )\n",
    "    end\n",
    "clear hname i0 \n",
    "\n",
    "% Print figure\n",
    "cd(origDir)\n",
    "% print('figure2b','-dpng','-r600')\n",
    "f.PaperSize = [46.81 33.1];\n",
    "f.PaperPosition(1:2) = [0 0];\n",
    "print -dpdf figure2b.pdf"
   ]
  },
  {
   "cell_type": "code",
   "execution_count": 21,
   "metadata": {
    "scrolled": true
   },
   "outputs": [
    {
     "name": "stdout",
     "output_type": "stream",
     "text": [
      "Fastest: mean = 4.69 Hz, med = 4.84 Hz, std = 1.130 Hz \n",
      "Spontaneous: mean = 1.67 Hz, med = 1.58 Hz, std = 0.744 Hz \n",
      "Slowest: mean = 0.60 Hz, med = 0.50 Hz, std = 0.299 Hz \n",
      "\n",
      "Fastest vs  Spontaneous:  t = 14.82 ,df = 42.00 , p = 0.00 \n",
      "Fastest vs  Slowest:      t = 21.52 ,df = 42.00 , p = 0.00 \n",
      "Spontaneous vs. Slowest:  t = 11.25 ,df = 42.00 , p = 0.00 \n"
     ]
    }
   ],
   "source": [
    "% compute mean & std of each condition: fastest, spontaneous, slowest\n",
    "fprintf('Fastest: mean = %1.2f Hz, med = %1.2f Hz, std = %1.3f Hz \\n', nanmean(TAPP(:,1)), quantile(TAPP(:,1),[.5]), nanstd(TAPP(:,1)))\n",
    "fprintf('Spontaneous: mean = %1.2f Hz, med = %1.2f Hz, std = %1.3f Hz \\n', nanmean(TAPP(:,2)), quantile(TAPP(:,2),[.5]), nanstd(TAPP(:,2)))\n",
    "fprintf('Slowest: mean = %1.2f Hz, med = %1.2f Hz, std = %1.3f Hz \\n', nanmean(TAPP(:,3)), quantile(TAPP(:,3),[.5]), nanstd(TAPP(:,3)))\n",
    " \n",
    "% compare 3 conditions two-by-two: fastest, spontaneous, slowest\n",
    " [h,p,ci,stats] = ttest(TAPP(:,1),TAPP(:,2));\n",
    "    bf = bftest(TAPP(:,1)-TAPP(:,2),'bic'); \n",
    "     fprintf('\\nFastest vs  Spontaneous:  t = %1.2f ,df = %1.2f , p = %1.2f \\n',stats.tstat,stats.df, p)\n",
    "[h,p,ci,stats] = ttest(TAPP(:,1),TAPP(:,3));\n",
    "    bf = bftest(TAPP(:,1)-TAPP(:,3),'bic'); \n",
    "     fprintf('Fastest vs  Slowest:      t = %1.2f ,df = %1.2f , p = %1.2f \\n',stats.tstat,stats.df, p)\n",
    "[h,p,ci,stats] = ttest(TAPP(:,2),TAPP(:,3));\n",
    "    bf = bftest(TAPP(:,2)-TAPP(:,3),'bic'); \n",
    "     fprintf('Spontaneous vs. Slowest:  t = %1.2f ,df = %1.2f , p = %1.2f \\n',stats.tstat,stats.df, p)\n",
    "     "
   ]
  },
  {
   "cell_type": "code",
   "execution_count": null,
   "metadata": {},
   "outputs": [],
   "source": []
  }
 ],
 "metadata": {
  "kernelspec": {
   "display_name": "Matlab",
   "language": "matlab",
   "name": "matlab"
  },
  "language_info": {
   "codemirror_mode": "octave",
   "file_extension": ".m",
   "help_links": [
    {
     "text": "MetaKernel Magics",
     "url": "https://github.com/calysto/metakernel/blob/master/metakernel/magics/README.md"
    }
   ],
   "mimetype": "text/x-octave",
   "name": "matlab",
   "version": "0.16.1"
  }
 },
 "nbformat": 4,
 "nbformat_minor": 2
}
