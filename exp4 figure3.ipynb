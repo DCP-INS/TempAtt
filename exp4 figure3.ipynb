{
 "cells": [
  {
   "cell_type": "markdown",
   "metadata": {},
   "source": [
    "#  TempAtt exp4 (visual)"
   ]
  },
  {
   "cell_type": "markdown",
   "metadata": {},
   "source": [
    "### Load & preprocess data"
   ]
  },
  {
   "cell_type": "code",
   "execution_count": 57,
   "metadata": {
    "scrolled": false
   },
   "outputs": [],
   "source": [
    "clear\n",
    "clc\n",
    "% close all"
   ]
  },
  {
   "cell_type": "code",
   "execution_count": 58,
   "metadata": {},
   "outputs": [],
   "source": [
    "% define Paths: replace XXX by your own path\n",
    "origDir = '/XXX/exp4/'; %!\n",
    "addpath(genpath(origDir)); cd(origDir)\n",
    "\n",
    "% define data\n",
    "SUJETS = 1:31;\n",
    "SUJETS( SUJETS==12 |SUJETS==16 | SUJETS==24 ) = []; % to remove the unfinished ones"
   ]
  },
  {
   "cell_type": "code",
   "execution_count": 59,
   "metadata": {},
   "outputs": [],
   "source": [
    "% load data: 3 sessions per participant\n",
    "IN = []; Dif = NaN(SUJETS(end),3);\n",
    "for isuj = SUJETS\n",
    "    subject = ['S' sprintf( '%02d', isuj ) ];  \n",
    "        ifile = dir(['exp4a/TA18V_' subject '_1*.mat']);\n",
    "        load([ifile(end).name])\n",
    "        IN{isuj, 1} = X;\n",
    "        Dif(isuj,1) = cfg.ndis;\n",
    "    subject = ['S' sprintf( '%02d', isuj ) 'b'];\n",
    "        ifile = dir(['exp4a/TA18V_' subject '_1*.mat']);\n",
    "        load([ifile(end).name])\n",
    "        IN{isuj, 2} = X;\n",
    "        Dif(isuj,2) = cfg.ndis;\n",
    "\tif (~exist('beats1', 'var'))\n",
    "        beats1 = cfg.fbeat(end:-1:1); % 8 values\n",
    "    end\n",
    "    subject = ['S' sprintf( '%02d', isuj ) 'c'];\n",
    "        ifile = dir(['exp4b/TA18V_' subject '_1*.mat']);\n",
    "        load([ifile(end).name])\n",
    "        IN{isuj, 3} = X;\n",
    "        Dif(isuj,3) = cfg.ndis;\n",
    "\tif (~exist('beats2', 'var'))\n",
    "        beats2 = cfg.fbeat(end:-1:1); % 3 values\n",
    "    end\n",
    "    clear X subject ifile\n",
    "end\n",
    "Dif = mean(Dif,2);"
   ]
  },
  {
   "cell_type": "code",
   "execution_count": 60,
   "metadata": {
    "scrolled": true
   },
   "outputs": [],
   "source": [
    "% varnames\n",
    "varname = {'Proportion Correct', 'Mean RT (ms)', 'Hit IE (sec)'};"
   ]
  },
  {
   "cell_type": "code",
   "execution_count": 61,
   "metadata": {},
   "outputs": [],
   "source": [
    "% extract data\n",
    "OUT{1} = NaN(SUJETS(end), length([beats1 beats2])); OUT{2} = OUT{1}; OUT{3} = OUT{2};\n",
    "rout1 = [] ; rout2 = []; rout = [];\n",
    "beats = [beats1 beats2(2:end)];\n",
    "\n",
    "for isuj = SUJETS    \n",
    "    % sessions 1&2\n",
    "    for ibeat = 1:length(beats1)\n",
    "        out = [];\n",
    "        for isess = 1:2 %!\n",
    "            y = IN{isuj,isess}.beat == beats1(ibeat);\n",
    "            out{1}(isess,:) = IN{isuj,isess}.iscor(y);\n",
    "            out{2}(isess,:) = IN{isuj,isess}.rt(y);\n",
    "        end\n",
    "        % group 2 sessions\n",
    "            out{1} = reshape(out{1},[],1);\n",
    "            out{2} = reshape(out{2},[],1);\n",
    "        % nan rt >|< 2sd\n",
    "            rtmin = mean(out{2}) -2*std(out{2});\n",
    "            rtmax = mean(out{2}) +2*std(out{2});\n",
    "            out{2}(out{2}>rtmax)  = NaN; out{2}(out{2}<rtmin) = NaN;\n",
    "            out{1}(isnan(out{2})) = NaN;\n",
    "        % avg trials\n",
    "            OUT{1}(isuj,ibeat) = nanmean(out{1});\n",
    "            OUT{2}(isuj,ibeat) = nanmean(out{2});\n",
    "            OUT{3}(isuj,ibeat) = nanmean(out{2}) ./nanmean(out{1});    \n",
    "    end    \n",
    "    % sessions 3\n",
    "    isess = 3; out = [];\n",
    "    for ibeat = 1:length(beats2)\n",
    "        y = IN{isuj,isess}.beat == beats2(ibeat);\n",
    "        out{1} = IN{isuj,isess}.iscor(y);\n",
    "        out{2} = IN{isuj,isess}.rt(y);\n",
    "        % nan rt >|< 2sd\n",
    "            rtmin = mean(out{2}) -2*std(out{2});\n",
    "            rtmax = mean(out{2}) +2*std(out{2});\n",
    "            out{2}(out{2}>rtmax)  = NaN; out{2}(out{2}<rtmin) = NaN;\n",
    "            out{1}(isnan(out{2})) = NaN;\n",
    "        % avg trials\n",
    "            OUT{1}(isuj,length(beats1)+ibeat) = nanmean(out{1});\n",
    "            OUT{2}(isuj,length(beats1)+ibeat) = nanmean(out{2});\n",
    "            OUT{3}(isuj,length(beats1)+ibeat) = nanmean(out{2}) ./nanmean(out{1});\n",
    "    end\n",
    "end\n",
    "clear x y rtmax out IN  isuj ibeat cfg"
   ]
  },
  {
   "cell_type": "code",
   "execution_count": 62,
   "metadata": {},
   "outputs": [],
   "source": [
    "% remove unfinished/phantom (NaN) participants\n",
    "OUT{1}(isnan(OUT{1}(:,1)),:) = [];\n",
    "OUT{2}(isnan(OUT{2}(:,1)),:) = [];\n",
    "OUT{3}(isnan(OUT{3}(:,1)),:) = [];\n",
    "Dif(isnan(Dif)) = [];"
   ]
  },
  {
   "cell_type": "code",
   "execution_count": 63,
   "metadata": {},
   "outputs": [],
   "source": [
    "% remove redundant fbeat across sessions 1&2 vs. 3 (to normalize number of trials across conditions)\n",
    "OUTi{1} = OUT{1}(:,length(beats1)+1); \n",
    "    OUTi{2} = OUT{2}(:,length(beats1)+1);\n",
    "    OUTi{3} = OUT{3}(:,length(beats1)+1);\n",
    "OUT{1}(:,length(beats1)+1) = [];\n",
    "    OUT{2}(:,length(beats1)+1) = [];\n",
    "    OUT{3}(:,length(beats1)+1) = [];    \n",
    "clear beats1 beats2"
   ]
  },
  {
   "cell_type": "code",
   "execution_count": 64,
   "metadata": {
    "scrolled": true
   },
   "outputs": [],
   "source": [
    "% define variable of interest\n",
    "i0 = 1; % performance (or RT, or IE, see varname)\n",
    "fit_order = 3; % fit order (n = 3)"
   ]
  },
  {
   "cell_type": "code",
   "execution_count": 65,
   "metadata": {},
   "outputs": [],
   "source": [
    "% Fits per subject - define after rstudio analysis\n",
    "xVec = (beats(end):0.01:beats(1));\n",
    "Fit = [];\n",
    "for j0 = 1:length(OUT{i0})\n",
    "        x = OUT{i0}(j0,:);\n",
    "        x = polyfit(log(beats), x, fit_order);\n",
    "        Fit(j0) = exp((-x(2)-sqrt(x(2).^2-3.*x(1).*x(3)))./(3.*x(1))); % order 3\n",
    "        % Fit(j0) = exp(-(x(2)./(2.*x(1)))); % order 2\n",
    "end\n",
    "Fit = real(Fit);\n",
    "nsuj = length(Fit);\n",
    "\n",
    "% save data for inter-experiment comparisons\n",
    "save([origDir 'exp4_values.mat'], 'Fit', 'Dif');"
   ]
  },
  {
   "cell_type": "code",
   "execution_count": 66,
   "metadata": {
    "scrolled": true
   },
   "outputs": [
    {
     "name": "stdout",
     "output_type": "stream",
     "text": [
      "\n",
      "ans =\n",
      "\n",
      "    0.3270    1.5945\n",
      "\n"
     ]
    }
   ],
   "source": [
    "% detect potential outliers (4std) in the Fit\n",
    "olr = find((Fit>(mean(Fit)+4*std(Fit))));\n",
    "% control range of Fit fq (should be between [0, 3.2])\n",
    "[min(Fit), max(Fit)]"
   ]
  },
  {
   "cell_type": "markdown",
   "metadata": {},
   "source": [
    "### Statistics"
   ]
  },
  {
   "cell_type": "code",
   "execution_count": 67,
   "metadata": {
    "scrolled": true
   },
   "outputs": [
    {
     "name": "stdout",
     "output_type": "stream",
     "text": [
      "\n",
      "Parametric repeated-measure Anova on Proportion Correct \n",
      "Beat                 F(  9.00,243.00) =  53.564,\tp = 0.0000\n",
      "\n",
      "3nd order fit: r2=0.93, p=0.000 \n"
     ]
    }
   ],
   "source": [
    "% statistics\n",
    "fprintf('\\nParametric repeated-measure Anova on %s \\n', varname{i0})\n",
    "[~,F,~,~] = repanova(OUT{i0}, 10, {'Beat'});\n",
    "\n",
    "% compute fit quality\n",
    "x = mean(OUT{i0},1);\n",
    "    y = polyfit(log(beats), x, fit_order);\n",
    "    y = polyval(y, log(beats));\n",
    "[r,p] = corr(x', y', 'type', 'Spearman');\n",
    "fprintf('\\n%1.0fnd order fit: r2=%1.2f, p=%1.3f \\n', fit_order, r*r, p)"
   ]
  },
  {
   "cell_type": "markdown",
   "metadata": {},
   "source": [
    "### Figure"
   ]
  },
  {
   "cell_type": "code",
   "execution_count": null,
   "metadata": {},
   "outputs": [],
   "source": [
    "% load data exp1\n",
    "A = load('../exp1/exp1_values.mat');"
   ]
  },
  {
   "cell_type": "code",
   "execution_count": 83,
   "metadata": {},
   "outputs": [
    {
     "data": {
      "image/png": "[encoded data removed]",
      "text/plain": [
       "<IPython.core.display.Image object>"
      ]
     },
     "metadata": {},
     "output_type": "display_data"
    }
   ],
   "source": [
    "figure; set(gcf,'color','w'); colormap([.5 .5 .5; 1 1 1])\n",
    "\n",
    "% 1. Difficulty\n",
    "h = subplot(2,3, 5); hold on\n",
    "group = [ones(size(A.Dif)); 2 * ones(size(Dif))];\n",
    "    boxplot(zeros(10,1), 'colors','k','Widths',.01)\n",
    "boxplot([A.Dif; Dif],group,'boxstyle','outline', 'colors','k','OutlierSize',4,'Symbol','','Widths',0.3)\n",
    "scatter(ones(size(A.Dif)).*(1+(rand(size(A.Dif))-0.5)/10),A.Dif, ...\n",
    "    'MarkerFaceColor',[.1 .1 .1],'MarkerEdgeColor','k',...\n",
    "    'MarkerFaceAlpha',.2,'MarkerEdgeAlpha',.2)\n",
    "scatter(ones(size(Dif)).*(2+(rand(size(Dif))-0.5)/10),Dif, ...\n",
    "    'MarkerFaceColor',[.1 .1 .1],'MarkerEdgeColor','k',...\n",
    "    'MarkerFaceAlpha',.2,'MarkerEdgeAlpha',.2)\n",
    "    set(gca, 'FontSize', 10, 'FontName', 'Arial')\n",
    "    set(gca,'Layer','top','Box','off','TickLength',[.01 .01])    \n",
    "ylabel( 'Difficulty (nb dis/beat)' )\n",
    "    ylim( [.0, 3.2] ) %!\n",
    "    yticks( [0 1 2 3] )\n",
    "set(gca,'XTickLabel',{'Audition','Vision'})\n",
    "    \n",
    "    \n",
    "% 3. boxplot individual preferred Fq\n",
    "h = subplot(2,3, 3); hold on\n",
    "group = [ones(size(A.Fit)); 2 * ones(size(Fit'))];\n",
    "    boxplot(zeros(10,1), 'colors','k','Widths',.01)\n",
    "boxplot([A.Fit; Fit'],group,'boxstyle','outline', 'colors','k','OutlierSize',4,'Symbol','','Widths',0.3)\n",
    "scatter(ones(size(A.Fit)).*(1+(rand(size(A.Fit))-0.5)/10),A.Fit, ...\n",
    "    'MarkerFaceColor',[.3 .3 .8],'MarkerEdgeColor','b',...\n",
    "    'MarkerFaceAlpha',.2,'MarkerEdgeAlpha',.2)\n",
    "scatter(ones(size(Fit')).*(2+(rand(size(Fit'))-0.5)/10),Fit', ...\n",
    "    'MarkerFaceColor',[.3 .3 .8],'MarkerEdgeColor','b',...\n",
    "    'MarkerFaceAlpha',.2,'MarkerEdgeAlpha',.2)\n",
    "    set(gca, 'FontSize', 10, 'FontName', 'Arial')\n",
    "    set(gca,'Layer','top','Box','off','TickLength',[.01 .01])    \n",
    "ylabel( 'Beat frequency (Hz)' )\n",
    "    yticks( [.3 .6 1 1.7 2.9 3.8] )\n",
    "    set(gca, 'YScale', 'log', 'YLim', [0.28, 4])\n",
    "set(gca,'XTickLabel',{'Audition','Vision'})\n",
    "\n",
    "\n",
    "% 2. plot performances\n",
    "subplot(2,2, 1.3); hold on\n",
    "x = bsxfun(@plus,bsxfun(@minus, OUT{i0}, mean(OUT{i0},2)), mean(OUT{i0}(:)));\n",
    "errorbar(beats, mean(x), std(x)/sqrt(size(x,1)), ...\n",
    "    'b.', 'color', [.3 .3 .8], 'MarkerSize',15, 'Linewidth', 1.5,'Capsize', 1)\n",
    "\n",
    "% + plot staircase\n",
    "plot(2, .5, '.', 'color', [1 .5 .0], 'Linewidth', 2, 'MarkerSize', 15) %!\n",
    "        \n",
    "% + plot Fit\n",
    "x = mean(OUT{i0},1);\n",
    "    x = polyfit(log(beats), x, fit_order);\n",
    "    freqpass = exp((-x(2)-sqrt(x(2).^2-3.*x(1).*x(3)))./(3.*x(1))); % order 3\n",
    "    x = polyval(x, log(xVec));\n",
    "    h = plot(xVec, x, 'color', [.3 .3 .8], 'Linewidth', 1.5);\n",
    "    h.Color(4) = 0.7;\n",
    "\n",
    "% + plot max fit\n",
    "[~,b] = max(x);\n",
    "maxpass = max(x);\n",
    "h = line([xVec(b), xVec(b)], [.0, max(x)]);\n",
    "    set(h, 'color', [.3 .3 .8], 'LineStyle', ':')\n",
    "    \n",
    "hold off\n",
    "set(gca, 'FontSize', 10, 'FontName', 'Arial')\n",
    "ylabel( varname{i0} )        \n",
    "xlabel( 'Beat frequency (Hz)' )\n",
    "set(gca,'Layer','top','Box','off','TickLength',[.01 .01])\n",
    "ylim( [.5, .9] ) %!\n",
    "yticks( .5:.1:1 )       \n",
    "    xticks( round(beats([end:-2:1 1]),1) )\n",
    "    set(gca, 'XScale', 'log')\n",
    "    xlim( [.28, 4] )\n",
    "\n",
    "% Print Figure\n",
    "cd(origDir)\n",
    "%print('figure3b','-dpng','-r600')\n",
    "f.PaperSize = [46.81 33.1];\n",
    "f.PaperPosition(1:2) = [0 0];\n",
    "print -dpdf figure3b.pdf"
   ]
  },
  {
   "cell_type": "code",
   "execution_count": 84,
   "metadata": {
    "scrolled": true
   },
   "outputs": [
    {
     "name": "stdout",
     "output_type": "stream",
     "text": [
      "optimal beat frequency:  mean = 0.83 Hz, med = 0.72 Hz, std = 0.339 Hz \n",
      "difficulty level staircase:  mean = 0.28 , med = 0.23 , std = 0.179  \n",
      "optimal beat frequency group-level:  0.82 %, 0.65 Hz \n"
     ]
    }
   ],
   "source": [
    "% Passive visual exp only\n",
    " fprintf('optimal beat frequency:  mean = %1.2f Hz, med = %1.2f Hz, std = %1.3f Hz \\n', mean(Fit), quantile(Fit,[.5]), std(Fit))\n",
    " fprintf('difficulty level staircase:  mean = %1.2f , med = %1.2f , std = %1.3f  \\n', mean(Dif), quantile(Dif,[.5]), std(Dif))\n",
    " fprintf('optimal beat frequency group-level:  %1.2f %%, %1.2f Hz \\n', mean(maxpass), freqpass)\n",
    " "
   ]
  },
  {
   "cell_type": "markdown",
   "metadata": {},
   "source": [
    "### Statistics"
   ]
  },
  {
   "cell_type": "code",
   "execution_count": 87,
   "metadata": {
    "scrolled": true
   },
   "outputs": [
    {
     "name": "stdout",
     "output_type": "stream",
     "text": [
      "optimal beat frequency: p= 0.0028,  t= 3.1848,  df=  39.62\n",
      "     df without Welch-Satterthwaite correction : 56\n"
     ]
    }
   ],
   "source": [
    "% compare optimal beat in audition (exp1) vs vision (exp4)\n",
    "[h,p,ci,stats] = ttest2(A.Fit,Fit, 'VarType', 'unequal'); % unpaired welsh t test\n",
    "    fprintf('optimal beat frequency: p= %6.4f,  t= %6.4f,  df= %6.2f\\n', p, stats.tstat, stats.df)\n",
    "    fprintf('   df without Welch-Satterthwaite correction : %1.0f\\n',length(Fit)+length(A.Fit)-2);\n",
    "clear x y  h p ci stats"
   ]
  },
  {
   "cell_type": "code",
   "execution_count": 88,
   "metadata": {
    "scrolled": true
   },
   "outputs": [
    {
     "name": "stdout",
     "output_type": "stream",
     "text": [
      "Difficulty level : p= 0.0000,  t= -5.5188,  df=  33.02\n",
      "   df without Welch-Satterthwaite correction : 56\n"
     ]
    }
   ],
   "source": [
    "% compare difficulty level in audition (exp1) vs vision (exp4)\n",
    "[h,p,ci,stats] = ttest2(Dif,A.Dif, 'VarType', 'unequal'); % unpaired welsh t test\n",
    "    fprintf('Difficulty level (staircase): p= %6.4f,  t= %6.4f,  df= %6.2f\\n', p, stats.tstat, stats.df)\n",
    "    fprintf('   df without Welch-Satterthwaite correction : %1.0f\\n',length(Dif)+length(A.Dif)-2);\n",
    "clear x y  h p ci stats"
   ]
  },
  {
   "cell_type": "code",
   "execution_count": null,
   "metadata": {},
   "outputs": [],
   "source": []
  }
 ],
 "metadata": {
  "kernelspec": {
   "display_name": "Matlab",
   "language": "matlab",
   "name": "matlab"
  },
  "language_info": {
   "codemirror_mode": "octave",
   "file_extension": ".m",
   "help_links": [
    {
     "text": "MetaKernel Magics",
     "url": "https://github.com/calysto/metakernel/blob/master/metakernel/magics/README.md"
    }
   ],
   "mimetype": "text/x-octave",
   "name": "matlab",
   "version": "0.16.1"
  }
 },
 "nbformat": 4,
 "nbformat_minor": 2
}
