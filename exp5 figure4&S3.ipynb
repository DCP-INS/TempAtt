{
 "cells": [
  {
   "cell_type": "markdown",
   "metadata": {},
   "source": [
    "# TempAttV exp5 (visual - passive&tracking)"
   ]
  },
  {
   "cell_type": "markdown",
   "metadata": {},
   "source": [
    "### Load & preprocess data"
   ]
  },
  {
   "cell_type": "code",
   "execution_count": 20,
   "metadata": {
    "scrolled": true
   },
   "outputs": [],
   "source": [
    "clear\n",
    "clc\n",
    "% close all"
   ]
  },
  {
   "cell_type": "code",
   "execution_count": 21,
   "metadata": {},
   "outputs": [],
   "source": [
    "% define Paths: replace XXX by your own path\n",
    "origDir = '/XXX/exp5/';\n",
    "addpath(genpath(origDir)); cd(origDir)\n",
    "\n",
    "% define data\n",
    "SUJETS = 1:20;\n",
    "% SUJETS = []; % to remove the unfinished ones"
   ]
  },
  {
   "cell_type": "code",
   "execution_count": 22,
   "metadata": {},
   "outputs": [],
   "source": [
    "% load data: 2 sessions per participant\n",
    "IN = []; Dif = NaN(SUJETS(end),1);\n",
    "for isuj = SUJETS\n",
    "    subject = ['S' sprintf( '%02d', isuj ) ];\n",
    "        ifile = dir(['TA18V_' subject '_Listen_1*.mat']);\n",
    "        load([ifile(end).name]) \n",
    "        IN{isuj,1}  = X;\n",
    "        Dif(isuj,1) = cfg.ndis;\n",
    "    subject = ['S' sprintf( '%02d', isuj ) ];\n",
    "        ifile = dir(['TA18V_' subject '_Tracking_1*.mat']);\n",
    "        load([ifile(end).name]) \n",
    "        IN{isuj,2}  = X;\n",
    "        Dif(isuj,2) = cfg.ndis;\n",
    "    clear X subject ifile\n",
    "    \n",
    "    if Dif(isuj,1) ~= Dif(isuj,2)\n",
    "    fprintf('Problem! : difficulty level was not matched across sessions')\n",
    "    end\n",
    "end\n",
    "Dif = mean(Dif,2);"
   ]
  },
  {
   "cell_type": "code",
   "execution_count": 23,
   "metadata": {},
   "outputs": [],
   "source": [
    "% varnames & beat\n",
    "varname = {'Proportion Correct', 'Mean RT (ms)', 'Hit IE (sec)'};\n",
    "beats = cfg.fbeat(end:-1:1);"
   ]
  },
  {
   "cell_type": "code",
   "execution_count": 24,
   "metadata": {},
   "outputs": [],
   "source": [
    "% extract data\n",
    "OUT{1} = NaN(SUJETS(end), length(cfg.fbeat), 2); OUT{2} = OUT{1}; OUT{3} = OUT{2};\n",
    "for isuj = SUJETS\n",
    "    for itapp = 1:2\n",
    "        for ibeat = 1:length(beats)\n",
    "            y = IN{isuj,itapp}.beat == beats(ibeat);\n",
    "            out{1} = IN{isuj,itapp}.iscor(y);\n",
    "            out{2} = IN{isuj,itapp}.rt(y);\n",
    "            % nan rt >|< 2sd\n",
    "                rtmin = mean(out{2}) -2*std(out{2});\n",
    "                rtmax = mean(out{2}) +2*std(out{2});\n",
    "                out{2}(out{2}>rtmax)  = NaN; out{2}(out{2}<rtmin) = NaN;\n",
    "                out{1}(isnan(out{2})) = NaN;\n",
    "            % avg trials\n",
    "                OUT{1}(isuj,ibeat,itapp) = nanmean(out{1});\n",
    "                OUT{2}(isuj,ibeat,itapp) = nanmean(out{2});\n",
    "                OUT{3}(isuj,ibeat,itapp) = nanmean(out{2}) ./nanmean(out{1});\n",
    "            clear out y rtmin rtmax\n",
    "        end\n",
    "    end\n",
    "end\n",
    "clear IN  isuj ibeat itapp"
   ]
  },
  {
   "cell_type": "code",
   "execution_count": 25,
   "metadata": {},
   "outputs": [],
   "source": [
    "% Load tapping data\n",
    "load([origDir 'exp5_tapping.mat'], 'TAPP'); % TAPP\n",
    "load([origDir 'exp5_lag.mat']); % LAG"
   ]
  },
  {
   "cell_type": "code",
   "execution_count": 26,
   "metadata": {},
   "outputs": [],
   "source": [
    "% remove phantom (NaN) participants\n",
    "OUT{1}(isnan(OUT{1}(:,1,1)),:,:) = [];\n",
    "OUT{2}(isnan(OUT{2}(:,1,1)),:,:) = [];\n",
    "OUT{3}(isnan(OUT{3}(:,1,1)),:,:) = [];\n",
    "TAPP(isnan(nanmean(TAPP(:,1,1,:),4)), :,:,:) = [];\n",
    "Dif(isnan(Dif)) = [];"
   ]
  },
  {
   "cell_type": "code",
   "execution_count": 27,
   "metadata": {},
   "outputs": [],
   "source": [
    "% define variable of interest\n",
    "i0 = 1; % performance (or RT, or IE, see varname)\n",
    "fit_order = 3; % fit order (n = 3)"
   ]
  },
  {
   "cell_type": "code",
   "execution_count": 28,
   "metadata": {},
   "outputs": [],
   "source": [
    "% Fits per participant\n",
    "xVec = (beats(end):0.01:beats(1));\n",
    "Fit = [];\n",
    "% Fit perceptual (visual) data\n",
    "for j0 = 1:length(OUT{i0})\n",
    "    for k0 = 1:2\n",
    "        x = OUT{i0}(j0,:,k0);\n",
    "        x = polyfit(log(beats), x, fit_order);\n",
    "        if fit_order == 3\n",
    "            Fit(j0,k0) = exp((-x(2)-sqrt(x(2).^2-3.*x(1).*x(3)))./(3.*x(1))); % order 3\n",
    "        elseif fit_order == 2\n",
    "            Fit(j0,k0) = exp(-(x(2)./(2.*x(1)))); % order 2\n",
    "        end\n",
    "    end\n",
    "end\n",
    "\n",
    "% Fit motor tapping data\n",
    "z = nanmean(TAPP(:,:,2,:)*100, 4);\n",
    "for j0 = 1:size(z,1)\n",
    "    x = z(j0,:);\n",
    "    x = polyfit(log(beats), x, fit_order);\n",
    "    if fit_order == 3\n",
    "        Fit(j0,3) = exp((-x(2)+sqrt(x(2).^2-3.*x(1).*x(3)))./(3.*x(1))); % order 3\n",
    "    elseif fit_order == 2\n",
    "        Fit(j0,3) = exp(-(x(2)./(2.*x(1)))); % order 2\n",
    "    end        \n",
    "end\n",
    "Fit = real(Fit);\n",
    "nsuj = length(Fit);\n",
    "clear j0 k0"
   ]
  },
  {
   "cell_type": "code",
   "execution_count": 29,
   "metadata": {
    "scrolled": true
   },
   "outputs": [
    {
     "name": "stdout",
     "output_type": "stream",
     "text": [
      "\n",
      "ans =\n",
      "\n",
      "    0.2462    2.9685\n",
      "\n"
     ]
    }
   ],
   "source": [
    "% detect potential outliers (4std)\n",
    "for j0 = 1:size(Fit,2)\n",
    "    olr = find((Fit(:,j0)>(mean(Fit(:,j0))+4*std(Fit(:,j0)))));\n",
    "end\n",
    "% control range of Fit fq (should be between [0, 3.2])\n",
    "[min(Fit(:)), max(Fit(:))]"
   ]
  },
  {
   "cell_type": "markdown",
   "metadata": {},
   "source": [
    "### Figure A"
   ]
  },
  {
   "cell_type": "code",
   "execution_count": 30,
   "metadata": {
    "scrolled": true
   },
   "outputs": [
    {
     "data": {
      "image/png": "[encoded data removed]",
      "text/plain": [
       "<IPython.core.display.Image object>"
      ]
     },
     "metadata": {},
     "output_type": "display_data"
    }
   ],
   "source": [
    "figure; set(gcf,'color','w'); colormap([.5 .5 .5; 1 1 1])\n",
    "\n",
    "% 1. Difficulty\n",
    "h = subplot(2,4, 1); hold on\n",
    "    boxplot(zeros(10,1), 'colors','k','Widths',.01)\n",
    "boxplot(Dif,'boxstyle','outline', 'colors','k','OutlierSize',4,'Symbol','','Widths',0.6)\n",
    "scatter(ones(size(Dif)).*(1+(rand(size(Dif))-0.5)/10),Dif, ...\n",
    "    'MarkerFaceColor',[.1 .1 .1],'MarkerEdgeColor','k',...\n",
    "    'MarkerFaceAlpha',.2,'MarkerEdgeAlpha',.2)\n",
    "    set(gca, 'FontSize', 10, 'FontName', 'Arial')\n",
    "    ylim( [0, 1] )\n",
    "    ylabel( 'Difficulty (nb dis/beat)' )\n",
    "    xlim( [.0, 2] )\n",
    "    set(gca,'XTick', [] )\n",
    "    set(gca,'Layer','top','Box','off','TickLength',[.01 .01])\n",
    "    \n",
    "\n",
    "% 2. beat-tapping Lag\n",
    "subplot(2,2, 2); hold on\n",
    "x = nanmean(LAG,4);    \n",
    "    x = bsxfun(@plus,bsxfun(@minus, x, mean(x,2)), mean(x(:)));\n",
    "    errorbar(beats, mean(x), std(x)/sqrt(size(x,1)), ...\n",
    "    '.','color', 'k', 'MarkerSize',15, 'Linewidth', 1.5,'Capsize', 1)\n",
    "x = mean(nanmean(LAG(:,:,1,:)), 4);\n",
    "    x = polyfit(log(beats), x, fit_order);\n",
    "    freqCVmin = exp((-x(2)+sqrt(x(2).^2-3.*x(1).*x(3)))./(3.*x(1))); % order 3\n",
    "    x = polyval(x, log(xVec));\n",
    "    h = plot(xVec, x, 'color', 'k', 'Linewidth', 1.5);\n",
    "    h.Color(4) = 0.7;\n",
    "\n",
    "% + plot max fit\n",
    "[~,b] = max(x);\n",
    "    maxLAG = max(x);\n",
    "h = line([xVec(b), xVec(b)], [.0, max(x)]);\n",
    "    set(h, 'color', 'k', 'LineStyle', ':')\n",
    "hold off\n",
    "    set(gca, 'FontSize', 10, 'FontName', 'Arial')\n",
    "    ylabel( '|\\phi tapping-beat| (rad)' )        \n",
    "    xlabel( 'Beat frequency (Hz)' )\n",
    "    xlim( [.38, 4] )\n",
    "    xticks( round(beats([end:-2:1 1]),1) )\n",
    "    set(gca, 'XScale', 'log')\n",
    "    xlabel( 'Beat frequency (Hz)' )\n",
    "\tylim( [0, 2.7] )\n",
    "    yticks( [0 pi/4 pi/2 3*pi/4] )\n",
    "    yticklabels({'0','\\pi/4','\\pi/2', '3\\pi/4'})\n",
    "    set(gca,'Layer','top','Box','off','TickLength',[.01 .01])\n",
    "\n",
    "        \n",
    "% 3. mean: actual/expected (tapspeed)\n",
    "subplot(2,2, 3); hold on\n",
    "x = nanmean(TAPP,4);\n",
    "x = 1e3./x(:,:,1); % in Hz\n",
    "    x = bsxfun(@rdivide, x, beats)*100; % actual/expected\n",
    "    x = bsxfun(@plus,bsxfun(@minus, x, mean(x,2)), mean(x(:)));\n",
    "    errorbar(beats, mean(x), std(x)/sqrt(size(x,1)), ...\n",
    "    '.','color', 'k', 'MarkerSize',15, 'Linewidth', 1.5,'Capsize', 1)\n",
    "        hold on; plot(beats, 100*ones(1,length(beats)),'k:'); hold off\n",
    "    set(gca, 'FontSize', 10, 'FontName', 'Arial')\n",
    "    ylabel( 'Tapping/beat (%)' )        \n",
    "    xlabel( 'Beat frequency (Hz)' )\n",
    "    set(gca,'Layer','top','Box','off','TickLength',[.01 .01])\n",
    "    ylim( [88, 112] )\n",
    "        xticks( round(beats([end:-2:1 1]),1) )\n",
    "        set(gca, 'XScale', 'log')\n",
    "        xlim( [.38, 4] )\n",
    "   \n",
    "% 4. coefficient of variation (std/mean*100)\n",
    "subplot(2,2, 4); hold on\n",
    "x = nanmean(TAPP,4);    \n",
    "x = x(:,:,2)*100; % in Hz\n",
    "    x = bsxfun(@plus,bsxfun(@minus, x, mean(x,2)), mean(x(:)));\n",
    "    errorbar(beats, mean(x), std(x)/sqrt(size(x,1)), ...\n",
    "    '.','color', 'k', 'MarkerSize',15, 'Linewidth', 1.5,'Capsize', 1)\n",
    "x = mean(nanmean(TAPP(:,:,2,:)*100, 4)); % listen\n",
    "    x = polyfit(log(beats), x, fit_order);\n",
    "    freqCVmin = exp((-x(2)+sqrt(x(2).^2-3.*x(1).*x(3)))./(3.*x(1))); % order 3\n",
    "    x = polyval(x, log(xVec));\n",
    "    h = plot(xVec, x, 'color', 'k', 'Linewidth', 1.5);\n",
    "    h.Color(4) = 0.7;    \n",
    "\n",
    "% + plot max fit\n",
    "[~,b] = min(x);\n",
    "    minCV = min(x);\n",
    "h = line([xVec(b), xVec(b)], [.0, min(x)]);\n",
    "    set(h, 'color', 'k', 'LineStyle', ':')\n",
    "hold off\n",
    "    set(gca, 'FontSize', 10, 'FontName', 'Arial')\n",
    "    xlim( [.38, 4] )\n",
    "        xticks( round(beats([end:-2:1 1]),1) )\n",
    "        set(gca, 'XScale', 'log')\n",
    "        xlabel( 'Beat frequency (Hz)' )\n",
    "    ylim( [0, 20] )\n",
    "        ylabel( 'Coefficient of variation (%)' ) % Tapping precision fn beat(ms/Hz)\n",
    "    set(gca,'Layer','top','Box','off','TickLength',[.01 .01])            \n",
    "clear x h   \n",
    "\n",
    "% Print figure\n",
    "cd(origDir)\n",
    "% print('figure4b&S3a','-dpng','-r600')\n",
    "f.PaperSize = [46.81 33.1];\n",
    "f.PaperPosition(1:2) = [0 0];\n",
    "print -dpdf figure4b&S3a.pdf\n"
   ]
  },
  {
   "cell_type": "code",
   "execution_count": 31,
   "metadata": {},
   "outputs": [
    {
     "name": "stdout",
     "output_type": "stream",
     "text": [
      "min CV from indiv Fit:  mean = 1.3951 Hz, med = 1.3317 Hz, std = 0.7672 Hz \n",
      "min CV from group averaged data:  11.45 %, 1.73 Hz \n"
     ]
    }
   ],
   "source": [
    "fprintf('min CV from indiv Fit:  mean = %1.4f Hz, med = %1.4f Hz, std = %1.4f Hz \\n', mean(Fit(:,3)), quantile(Fit(:,3),[.5]), std(Fit(:,3)))\n",
    "fprintf('min CV from group averaged data:  %1.2f %%, %1.2f Hz \\n', mean(minCV), freqCVmin)\n"
   ]
  },
  {
   "cell_type": "markdown",
   "metadata": {},
   "source": [
    "## Statistics"
   ]
  },
  {
   "cell_type": "code",
   "execution_count": 34,
   "metadata": {
    "scrolled": true
   },
   "outputs": [],
   "source": [
    "% load tapping CV from auditory exp2\n",
    "A = load('../exp2/exp2_values.mat');"
   ]
  },
  {
   "cell_type": "code",
   "execution_count": 38,
   "metadata": {
    "scrolled": false
   },
   "outputs": [
    {
     "name": "stdout",
     "output_type": "stream",
     "text": [
      "Fit beat frequency : p= 0.0371,  t= -2.1804,  df= 30.5832,  bf= 1.9270\n",
      "   df without Welch-Satterthwaite correction : 38\n"
     ]
    }
   ],
   "source": [
    "%% Stat compare audition vs vision on average (across beats)\n",
    "x = nanmean(A.TAPP(:,:,2,:)*100, 4); x(:,8) = [];\n",
    "y = nanmean(TAPP(:,:,2,:)*100, 4); y(:,8) = [];\n",
    "X = mean(x,2); Y = mean(y,2);\n",
    "[h,p,ci,stats] = ttest2(X,Y, 'Vartype', 'unequal'); % unpaired welsh ttest\n",
    "\n",
    "% unpaired Bayes Factor\n",
    "    T = stats.tstat;\n",
    "    df = numel(X)+numel(Y)-2;\n",
    "    N = numel(X)*numel(Y)/(numel(X)+numel(Y));\n",
    "    r = sqrt(2)/2; % Ã  voir !!! .7 or 1...\n",
    "numerator = (1+T.^2/df).^(-(df+1)/2);\n",
    "fun  = @(g) ( ((1+N.*g.*r.^2).^-0.5) .* (1+T.^2./((1+N.*g.*r.^2).*df)).^(-(df+1)/2) .* (2*pi).^(-1/2) .* g.^(-3/2).*exp(-1./(2*g))  );\n",
    "bf10 = numerator/integral(fun,0,inf); % Integrate over g\n",
    "bf10 = 1./bf10; % Return BF10\n",
    "% bf10 = 2*(1-pValue)*bf10; % if one-tail\n",
    "\n",
    "fprintf('Fit beat frequency : p= %6.4f,  t= %6.4f,  df= %6.4f,  bf= %6.4f\\n', p, stats.tstat, stats.df, bf10) \n",
    "fprintf('   df without Welch-Satterthwaite correction : %1.0f\\n',df);\n",
    "    "
   ]
  },
  {
   "cell_type": "code",
   "execution_count": 40,
   "metadata": {},
   "outputs": [
    {
     "name": "stdout",
     "output_type": "stream",
     "text": [
      "min CV from auditory indiv Fit:  mean = 1.4179 Hz, med = 1.4072 Hz, std = 0.4439 Hz \n",
      "min CV from visual indiv Fit:    mean = 1.3951 Hz, med = 1.3317 Hz, std = 0.7672 Hz \n",
      "Fit beat frequency : p= 0.9092,  t= -0.1150,  df= 30.4387,  bf= 0.3104\n",
      "   df without Welch-Satterthwaite correction : 38\n"
     ]
    }
   ],
   "source": [
    "%% Stat compare beat frequency corresponding to minimal CV in audition vs vision\n",
    "fprintf('min CV from auditory indiv Fit:  mean = %1.4f Hz, med = %1.4f Hz, std = %1.4f Hz \\n', mean(A.Fit(:,3)), quantile(A.Fit(:,3),[.5]), std(A.Fit(:,3)))\n",
    "fprintf('min CV from visual indiv Fit:    mean = %1.4f Hz, med = %1.4f Hz, std = %1.4f Hz \\n', mean(Fit(:,3)), quantile(Fit(:,3),[.5]), std(Fit(:,3)))\n",
    "X = Fit(:,3); Y = A.Fit(:,3);\n",
    "[h,p,ci,stats] = ttest2(X,Y, 'VarType', 'unequal'); % unpaired welsh t test\n",
    "\n",
    "% unpaired Bayes Factor\n",
    "    T = stats.tstat;\n",
    "    df = numel(X)+numel(Y)-2;\n",
    "    N = numel(X)*numel(Y)/(numel(X)+numel(Y));\n",
    "    r = sqrt(2)/2; % Ã  voir !!! .7 or 1...\n",
    "numerator = (1+T.^2/df).^(-(df+1)/2);\n",
    "fun  = @(g) ( ((1+N.*g.*r.^2).^-0.5) .* (1+T.^2./((1+N.*g.*r.^2).*df)).^(-(df+1)/2) .* (2*pi).^(-1/2) .* g.^(-3/2).*exp(-1./(2*g))  );\n",
    "bf10 = numerator/integral(fun,0,inf);\n",
    "bf10 = 1./bf10; % Return BF10\n",
    "% bf10 = 2*(1-pValue)*bf10; % if one-tail\n",
    "\n",
    "fprintf('Fit beat frequency : p= %6.4f,  t= %6.4f,  df= %6.4f,  bf= %6.4f\\n', p, stats.tstat, stats.df, bf10)\n",
    "fprintf('   df without Welch-Satterthwaite correction : %1.0f\\n',length(Fit)+length(A.Fit)-2);\n",
    "clear x y  h p ci stats bf\n"
   ]
  },
  {
   "cell_type": "code",
   "execution_count": 41,
   "metadata": {},
   "outputs": [
    {
     "name": "stdout",
     "output_type": "stream",
     "text": [
      "Parametric repeated-measure Anova on Proportion Correct \n",
      "Beat                 F(  7.00,133.00) =   0.882,\tp = 0.4763\n",
      "\n",
      "3nd order fit: r2=0.78, p=0.007 \n"
     ]
    }
   ],
   "source": [
    "% Anova CV tapping in visual exp5 between conditions\n",
    "x = nanmean(TAPP(:,:,2,:)*100, 4);\n",
    "fprintf('Parametric repeated-measure Anova on %s \\n', varname{i0})\n",
    "[~,F,~,~] = repanova(x, 8, {'Beat'});\n",
    "\n",
    "% compute fit quality: À VÉRIFIER\n",
    "x = mean(x);\n",
    "    y = polyfit(log(beats), x, fit_order);\n",
    "    y = polyval(y, log(beats));\n",
    "[r,p] = corr(x', y', 'type', 'Spearman');\n",
    "fprintf('\\n%1.0fnd order fit: r2=%1.2f, p=%1.3f \\n', fit_order, r*r, p)\n",
    "clear x y r p"
   ]
  },
  {
   "cell_type": "markdown",
   "metadata": {},
   "source": [
    "### Figure B"
   ]
  },
  {
   "cell_type": "code",
   "execution_count": 42,
   "metadata": {
    "scrolled": false
   },
   "outputs": [
    {
     "data": {
      "image/png": "[encoded data removed]",
      "text/plain": [
       "<IPython.core.display.Image object>"
      ]
     },
     "metadata": {},
     "output_type": "display_data"
    }
   ],
   "source": [
    "figure; set(gcf,'color','w'); colormap([.5 .5 .5; 1 1 1])\n",
    "    \n",
    "% 1. plot performances\n",
    "subplot(2,2, 1); hold on\n",
    "x = OUT{i0}(:,:,1); % listen\n",
    "    x = bsxfun(@plus,bsxfun(@minus, x, mean(x,2)), mean(x(:)));\n",
    "    errorbar(beats, mean(x), std(x)/sqrt(size(x,1)), ...\n",
    "    'b.', 'color', [.3 .3 .8], 'MarkerSize',15, 'Linewidth', 1.5,'Capsize', 1)\n",
    "x = OUT{i0}(:,:,2); % tracking\n",
    "    x = bsxfun(@plus,bsxfun(@minus, x, mean(x,2)), mean(x(:)));\n",
    "    errorbar(beats, mean(x), std(x)/sqrt(size(x,1)), ...\n",
    "    'r.', 'color', [.8 .3 .3], 'MarkerSize',15, 'Linewidth', 1.5,'Capsize', 1)\n",
    "\n",
    "% + plot staircase\n",
    "plot(2, .5, '.', 'color', [1 .5 .0], 'Linewidth', 2, 'MarkerSize', 15) %!\n",
    "        \n",
    "% Listen: plot Fit & max fit\n",
    "x = mean(OUT{i0}(:,:,1),1); % listen\n",
    "    x = polyfit(log(beats), x, fit_order);\n",
    "    freqpass = exp((-x(2)-sqrt(x(2).^2-3.*x(1).*x(3)))./(3.*x(1))); % order 3\n",
    "    x = polyval(x, log(xVec));\n",
    "    h = plot(xVec, x, 'color', [.3 .3 .8], 'Linewidth', 1.5);\n",
    "    h.Color(4) = 0.7;\n",
    "[~,b] = max(x);\n",
    "maxpass = max(x);\n",
    "    h = line([xVec(b), xVec(b)], [.0, max(x)]);\n",
    "    set(h, 'color', [.3 .3 .8], 'LineStyle', ':')\n",
    "  \n",
    "% Tracking: plot Fit & max fit    \n",
    "x = mean(OUT{i0}(:,:,2),1); % tracking\n",
    "    x = polyfit(log(beats), x, fit_order);\n",
    "    freqtrack = exp((-x(2)-sqrt(x(2).^2-3.*x(1).*x(3)))./(3.*x(1))); % order 3\n",
    "    x = polyval(x, log(xVec));\n",
    "    h = plot(xVec, x, 'color', [.8 .3 .3], 'Linewidth', 1.5);\n",
    "    h.Color(4) = 0.7;     \n",
    "[~,b] = max(x);\n",
    "maxtrack = max(x);\n",
    "    h = line([xVec(b), xVec(b)], [.0, max(x)]);\n",
    "    set(h, 'color', [.8 .3 .3], 'LineStyle', ':')  \n",
    "    \n",
    "hold off\n",
    "set(gca, 'FontSize', 10, 'FontName', 'Arial')\n",
    "ylabel( varname{i0} )        \n",
    "xlabel( 'Beat frequency (Hz)' )\n",
    "set(gca,'Layer','top','Box','off','TickLength',[.01 .01])\n",
    "ylim( [.5, .92] ) %!\n",
    "yticks( .5:.1:1 )       \n",
    "    xticks( round(beats([end:-2:1 1]),1) )\n",
    "    set(gca, 'XScale', 'log')\n",
    "    xlim( [.38, 4] )\n",
    "    \n",
    "\n",
    "% 2. boxplot individual preferred Fq\n",
    "subplot(2,2, 2); hold on\n",
    "boxplot(Fit,'orientation', 'horizontal', 'boxstyle','outline', 'colors','k','OutlierSize',4,'Symbol','','Widths',0.2)\n",
    "scatter(Fit(:,1),ones(nsuj,1).*(1+(rand(nsuj,1)-0.5)/10),  ...\n",
    "    'MarkerFaceColor',[.3 .3 .8],'MarkerEdgeColor','b',...\n",
    "    'MarkerFaceAlpha',.2,'MarkerEdgeAlpha',.2)\n",
    "scatter(Fit(:,2),ones(nsuj,1).*(2+(rand(nsuj,1)-0.5)/10),  ...\n",
    "    'MarkerFaceColor',[.8 .3 .3],'MarkerEdgeColor','r',...\n",
    "    'MarkerFaceAlpha',.2,'MarkerEdgeAlpha',.2)\n",
    "scatter(Fit(:,3),ones(nsuj,1).*(3+(rand(nsuj,1)-0.5)/10),  ...\n",
    "    'MarkerFaceColor',[.1 .1 .1],'MarkerEdgeColor','k',...\n",
    "    'MarkerFaceAlpha',.2,'MarkerEdgeAlpha',.2)  \n",
    "set(gca, 'FontSize', 10, 'FontName', 'Arial')\n",
    "set(gca,'Layer','top','Box','off','TickLength',[.01 .01])\n",
    "xlabel( 'Beat frequency (Hz)' )\n",
    "    xticks( round(beats([end:-2:1 1]),1) )\n",
    "    set(gca, 'XScale', 'log')\n",
    "    xlim( [.3, 4] )\n",
    "yticks( [] )\n",
    "set(gca, 'YColor', [1 1 1])\n",
    "\n",
    "% Print figure\n",
    "cd(origDir)\n",
    "% print('figure4a&c','-dpng','-r600')\n",
    "f.PaperSize = [46.81 33.1];\n",
    "f.PaperPosition(1:2) = [0 0];\n",
    "print -dpdf figure4a&c.pdf\n"
   ]
  },
  {
   "cell_type": "code",
   "execution_count": 43,
   "metadata": {},
   "outputs": [
    {
     "name": "stdout",
     "output_type": "stream",
     "text": [
      "optimal beat frequency passive:  0.85 %, 0.73 Hz \n",
      "optimal beat frequency tracking: 0.89 %, 0.63 Hz\n"
     ]
    }
   ],
   "source": [
    "fprintf('optimal beat frequency passive:  %1.2f %%, %1.2f Hz \\n', mean(maxpass), freqpass)\n",
    "fprintf('optimal beat frequency tracking: %1.2f %%, %1.2f Hz\\n', mean(maxtrack), freqtrack)"
   ]
  },
  {
   "cell_type": "markdown",
   "metadata": {},
   "source": [
    "### Statistics visual vs. tracking"
   ]
  },
  {
   "cell_type": "code",
   "execution_count": 48,
   "metadata": {
    "scrolled": true
   },
   "outputs": [
    {
     "name": "stdout",
     "output_type": "stream",
     "text": [
      "\n",
      "Parametric repeated-measure Anova on Proportion Correct \n",
      "Condition            F(  1.00, 19.00) =   0.565,\tp = 0.4616\n",
      "Beat                 F(  7.00,133.00) =  62.874,\tp = 0.0000\n",
      "Condition x Beat     F(  7.00,133.00) =   2.794,\tp = 0.0286\n",
      "\n",
      "     beat 3.82hz: p= 0.7335,  t= -0.3455,  df= 19.0000,  bf= 0.2381\n",
      "     beat 2.90hz: p= 0.8107,  t= -0.2428,  df= 19.0000,  bf= 0.2306\n",
      "     beat 2.20hz: p= 0.0150,  t= -2.6729,  df= 19.0000,  bf= 5.4418\n",
      "     beat 1.66hz: p= 0.0385,  t= -2.2241,  df= 19.0000,  bf= 2.2614\n",
      "     beat 1.26hz: p= 0.8728,  t= 0.1623,  df= 19.0000,  bf= 0.2267\n",
      "     beat 0.96hz: p= 0.1923,  t= 1.3519,  df= 19.0000,  bf= 0.5602\n",
      "     beat 0.72hz: p= 0.7173,  t= 0.3674,  df= 19.0000,  bf= 0.2400\n",
      "     beat 0.42hz: p= 0.0715,  t= 1.9087,  df= 19.0000,  bf= 1.2921\n"
     ]
    }
   ],
   "source": [
    "% Anova on performance\n",
    "fprintf('\\nParametric repeated-measure Anova on %s \\n', varname{i0})\n",
    "[~,F,~,~] = repanova( reshape(OUT{i0}, length(SUJETS),[]), [2,8], {'Condition','Beat'});\n",
    "\n",
    "% Post-hoc analysis: tracking vs. vision (beat-by-beat)\n",
    "fprintf('\\n')\n",
    "for j0 = 1:length(beats)\n",
    "    [~, p, ~, S] = ttest(OUT{1}(:,j0,2), OUT{1}(:,j0,1));\n",
    "    bf = bftest(OUT{1}(:,j0,2)-OUT{1}(:,j0,1),'bic'); \n",
    "    fprintf('     beat %1.2fhz: p= %6.4f,  t= %6.4f,  df= %6.4f,  bf= %6.4f\\n', beats(j0), p, S.tstat, S.df, bf)\n",
    "        pval(j0) = p;\n",
    "end"
   ]
  },
  {
   "cell_type": "code",
   "execution_count": 50,
   "metadata": {},
   "outputs": [
    {
     "name": "stdout",
     "output_type": "stream",
     "text": [
      "\n",
      "3nd order fit passive session: r2=0.95, p=0.000 \n",
      "3nd order fitactive session: r2=0.86, p=0.002 \n",
      "\n",
      "Tapping  :  mean = 1.40 , med = 1.33 , std = 0.767  \n",
      "Tracking :  mean = 0.65 , med = 0.62 , std = 0.171  \n",
      "Passive  :  mean = 0.83 , med = 0.73 , std = 0.462  \n",
      "\n",
      "Passive vs  Tracking:  t = 1.47 ,df = 19.00 , p = 0.16, bf = 0.6586 \n",
      "Passive vs  Tapping:   t = -2.93 ,df = 19.00 , p = 0.01, bf = 9.2782 \n",
      "Tracking vs  Tapping:  t = -4.32 ,df = 19.00 , p = 0.00, bf = 209.7942 \n",
      "\n"
     ]
    }
   ],
   "source": [
    "% optimal beat frequency\n",
    "x = mean(OUT{i0}(:,:,1),1); % passive\n",
    "    y = polyfit(log(beats), x, fit_order);\n",
    "    y = polyval(y, log(beats));\n",
    "[r,p] = corr(x', y', 'type', 'Spearman');\n",
    "fprintf('\\n%1.0fnd order fit passive session: r2=%1.2f, p=%1.3f \\n', fit_order, r*r, p)\n",
    "\n",
    "x = mean(OUT{i0}(:,:,2),1); % tracking\n",
    "    y = polyfit(log(beats), x, fit_order);\n",
    "    y = polyval(y, log(beats));\n",
    "[r,p] = corr(x', y', 'type', 'Spearman');\n",
    "fprintf('%1.0fnd order fitactive session: r2=%1.2f, p=%1.3f \\n', fit_order, r*r, p)\n",
    "\n",
    "% mean values of optimal frequency\n",
    " fprintf('\\nTapping  :  mean = %1.2f , med = %1.2f , std = %1.3f  \\n', mean(Fit(:,3)), quantile(Fit(:,3),[.5]), std(Fit(:,3)))\n",
    " fprintf('Tracking :  mean = %1.2f , med = %1.2f , std = %1.3f  \\n', mean(Fit(:,2)), quantile(Fit(:,2),[.5]), std(Fit(:,2)))\n",
    " fprintf('Passive  :  mean = %1.2f , med = %1.2f , std = %1.3f  \\n', mean(Fit(:,1)), quantile(Fit(:,1),[.5]), std(Fit(:,1)))\n",
    " fprintf('\\n')    \n",
    "  \n",
    "% compare optimal beat frequency btwn tapping/passive/tracking  \n",
    "[h,p,ci,stats] = ttest(Fit(:,1),Fit(:,2));\n",
    "    bf = bftest(Fit(:,1)-Fit(:,2),'bic'); \n",
    "     fprintf('Passive vs  Tracking:  t = %1.2f ,df = %1.2f , p = %1.2f, bf = %6.4f \\n',stats.tstat,stats.df, p, bf)\n",
    "[h,p,ci,stats] = ttest(Fit(:,1),Fit(:,3));\n",
    "    bf = bftest(Fit(:,1)-Fit(:,3),'bic'); \n",
    "     fprintf('Passive vs  Tapping:   t = %1.2f ,df = %1.2f , p = %1.2f, bf = %6.4f \\n',stats.tstat,stats.df, p, bf)\n",
    "[h,p,ci,stats] = ttest(Fit(:,2),Fit(:,3));\n",
    "    bf = bftest(Fit(:,2)-Fit(:,3),'bic'); \n",
    "     fprintf('Tracking vs  Tapping:  t = %1.2f ,df = %1.2f , p = %1.2f, bf = %6.4f \\n',stats.tstat,stats.df, p, bf)\n",
    " fprintf('\\n')    \n",
    "\n"
   ]
  },
  {
   "cell_type": "code",
   "execution_count": 51,
   "metadata": {},
   "outputs": [
    {
     "name": "stdout",
     "output_type": "stream",
     "text": [
      "passive2 vs  passive1:  t = -0.07  df= 33.0325, , p = 0.95, bf = 0.2911 \n",
      "   df without Welch-Satterthwaite correction : 46\n"
     ]
    }
   ],
   "source": [
    "% load data from exp4 to compare experiments\n",
    "V = load('../exp4/exp4_values.mat', 'Fit'); % Fit\n",
    "\n",
    "% compare visual experiments: exp4 vs. exp5\n",
    "X = Fit(:,1); Y = V.Fit;\n",
    "[h,p,ci,stats] = ttest2(X,Y, 'Vartype', 'unequal'); % unpaired welsh ttest\n",
    "\n",
    "% unpaired Bayes Factor\n",
    "    T = stats.tstat;\n",
    "    df = numel(X)+numel(Y)-2;\n",
    "    N = numel(X)*numel(Y)/(numel(X)+numel(Y));\n",
    "    r = sqrt(2)/2; % Ã  voir !!! .7 or 1...\n",
    "numerator = (1+T.^2/df).^(-(df+1)/2);\n",
    "fun  = @(g) ( ((1+N.*g.*r.^2).^-0.5) .* (1+T.^2./((1+N.*g.*r.^2).*df)).^(-(df+1)/2) .* (2*pi).^(-1/2) .* g.^(-3/2).*exp(-1./(2*g))  );\n",
    "bf10 = numerator/integral(fun,0,inf); % Integrate over g\n",
    "bf10 = 1./bf10; % Return BF10\n",
    "% bf10 = 2*(1-pValue)*bf10; % if one-tail\n",
    "\n",
    "fprintf('passive2 vs  passive1:  t = %1.2f  df= %6.4f, , p = %1.2f, bf = %6.4f \\n',stats.tstat,stats.df, p, bf10)\n",
    "fprintf('   df without Welch-Satterthwaite correction : %1.0f\\n',length(Fit)+length(V.Fit)-2);\n",
    "clear h p ci stats\n"
   ]
  },
  {
   "cell_type": "code",
   "execution_count": null,
   "metadata": {},
   "outputs": [],
   "source": []
  }
 ],
 "metadata": {
  "kernelspec": {
   "display_name": "Matlab",
   "language": "matlab",
   "name": "matlab"
  },
  "language_info": {
   "codemirror_mode": "octave",
   "file_extension": ".m",
   "help_links": [
    {
     "text": "MetaKernel Magics",
     "url": "https://github.com/calysto/metakernel/blob/master/metakernel/magics/README.md"
    }
   ],
   "mimetype": "text/x-octave",
   "name": "matlab",
   "version": "0.16.1"
  }
 },
 "nbformat": 4,
 "nbformat_minor": 2
}
